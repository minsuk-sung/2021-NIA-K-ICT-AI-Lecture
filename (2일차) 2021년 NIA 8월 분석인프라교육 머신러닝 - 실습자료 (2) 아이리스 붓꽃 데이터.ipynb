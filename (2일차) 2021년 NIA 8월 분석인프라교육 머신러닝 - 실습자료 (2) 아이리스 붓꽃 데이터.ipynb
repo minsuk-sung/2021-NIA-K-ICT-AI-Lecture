{
 "cells": [
  {
   "cell_type": "markdown",
   "metadata": {},
   "source": [
    "<img src=\"img/K-ICT_logo.jpg\" width=50%>\n",
    "<br>\n",
    "<div align='center'><font size=5><b>분석 인프라 활용 AI 교육</b></font></div>\n",
    "<br>\n",
    "<div align='center'><font size=3>인공지능 빅데이터 전문가 심화과정</font></div>\n",
    "<br>\n",
    "<div align='right'>강사 <a href=\"https://open.kakao.com/me/minsuksung\">성민석</a></div>\n",
    "<div align='right'>minsuksung@korea.ac.kr</div>"
   ]
  },
  {
   "cell_type": "markdown",
   "metadata": {
    "toc": true
   },
   "source": [
    "<h1>Table of Contents<span class=\"tocSkip\"></span></h1>\n",
    "<div class=\"toc\"><ul class=\"toc-item\"><li><span><a href=\"#데이터-불러오기\" data-toc-modified-id=\"데이터-불러오기-1\"><span class=\"toc-item-num\">1&nbsp;&nbsp;</span>데이터 불러오기</a></span></li><li><span><a href=\"#데이터-살펴보기\" data-toc-modified-id=\"데이터-살펴보기-2\"><span class=\"toc-item-num\">2&nbsp;&nbsp;</span>데이터 살펴보기</a></span></li><li><span><a href=\"#데이터-전처리\" data-toc-modified-id=\"데이터-전처리-3\"><span class=\"toc-item-num\">3&nbsp;&nbsp;</span>데이터 전처리</a></span></li><li><span><a href=\"#피처-엔지니어링\" data-toc-modified-id=\"피처-엔지니어링-4\"><span class=\"toc-item-num\">4&nbsp;&nbsp;</span>피처 엔지니어링</a></span></li><li><span><a href=\"#모델링\" data-toc-modified-id=\"모델링-5\"><span class=\"toc-item-num\">5&nbsp;&nbsp;</span>모델링</a></span></li><li><span><a href=\"#모델-평가\" data-toc-modified-id=\"모델-평가-6\"><span class=\"toc-item-num\">6&nbsp;&nbsp;</span>모델 평가</a></span></li><li><span><a href=\"#결과-예측\" data-toc-modified-id=\"결과-예측-7\"><span class=\"toc-item-num\">7&nbsp;&nbsp;</span>결과 예측</a></span></li></ul></div>"
   ]
  },
  {
   "cell_type": "markdown",
   "metadata": {},
   "source": [
    "<div align='center'><font size=3 color='red'><b>주의</b>: </font><font size=3><b>구글 콜랩</b>이나 <b>아나콘다</b>를 통해서 주피터 노트북을 실행해주세요!</font></div>"
   ]
  },
  {
   "cell_type": "code",
   "execution_count": 14,
   "metadata": {
    "ExecuteTime": {
     "end_time": "2021-08-08T07:16:33.811026Z",
     "start_time": "2021-08-08T07:16:33.594883Z"
    }
   },
   "outputs": [],
   "source": [
    "import os\n",
    "import sys\n",
    "import numpy as np\n",
    "import pandas as pd\n",
    "import matplotlib.pyplot as plt\n",
    "import sklearn"
   ]
  },
  {
   "cell_type": "markdown",
   "metadata": {},
   "source": [
    "## 데이터 불러오기\n",
    "<hr style=\"height:3px;border:none;color:#5F71F7;background-color:#203E60;\" />"
   ]
  },
  {
   "cell_type": "code",
   "execution_count": 15,
   "metadata": {
    "ExecuteTime": {
     "end_time": "2021-08-08T07:16:35.045084Z",
     "start_time": "2021-08-08T07:16:35.038478Z"
    },
    "scrolled": true
   },
   "outputs": [],
   "source": [
    "from sklearn.datasets import load_iris\n",
    "data_iris = load_iris()"
   ]
  },
  {
   "cell_type": "markdown",
   "metadata": {},
   "source": [
    "## 데이터 살펴보기\n",
    "<hr style=\"height:3px;border:none;color:#5F71F7;background-color:#203E60;\" />"
   ]
  },
  {
   "cell_type": "code",
   "execution_count": 16,
   "metadata": {
    "ExecuteTime": {
     "end_time": "2021-08-08T07:16:35.372317Z",
     "start_time": "2021-08-08T07:16:35.365889Z"
    }
   },
   "outputs": [
    {
     "data": {
      "text/plain": [
       "dict_keys(['data', 'target', 'frame', 'target_names', 'DESCR', 'feature_names', 'filename'])"
      ]
     },
     "execution_count": 16,
     "metadata": {},
     "output_type": "execute_result"
    }
   ],
   "source": [
    "data_iris.keys()"
   ]
  },
  {
   "cell_type": "code",
   "execution_count": 17,
   "metadata": {
    "ExecuteTime": {
     "end_time": "2021-08-08T07:16:35.501531Z",
     "start_time": "2021-08-08T07:16:35.496220Z"
    }
   },
   "outputs": [
    {
     "name": "stdout",
     "output_type": "stream",
     "text": [
      ".. _iris_dataset:\n",
      "\n",
      "Iris plants dataset\n",
      "--------------------\n",
      "\n",
      "**Data Set Characteristics:**\n",
      "\n",
      "    :Number of Instances: 150 (50 in each of three classes)\n",
      "    :Number of Attributes: 4 numeric, predictive attributes and the class\n",
      "    :Attribute Information:\n",
      "        - sepal length in cm\n",
      "        - sepal width in cm\n",
      "        - petal length in cm\n",
      "        - petal width in cm\n",
      "        - class:\n",
      "                - Iris-Setosa\n",
      "                - Iris-Versicolour\n",
      "                - Iris-Virginica\n",
      "                \n",
      "    :Summary Statistics:\n",
      "\n",
      "    ============== ==== ==== ======= ===== ====================\n",
      "                    Min  Max   Mean    SD   Class Correlation\n",
      "    ============== ==== ==== ======= ===== ====================\n",
      "    sepal length:   4.3  7.9   5.84   0.83    0.7826\n",
      "    sepal width:    2.0  4.4   3.05   0.43   -0.4194\n",
      "    petal length:   1.0  6.9   3.76   1.76    0.9490  (high!)\n",
      "    petal width:    0.1  2.5   1.20   0.76    0.9565  (high!)\n",
      "    ============== ==== ==== ======= ===== ====================\n",
      "\n",
      "    :Missing Attribute Values: None\n",
      "    :Class Distribution: 33.3% for each of 3 classes.\n",
      "    :Creator: R.A. Fisher\n",
      "    :Donor: Michael Marshall (MARSHALL%PLU@io.arc.nasa.gov)\n",
      "    :Date: July, 1988\n",
      "\n",
      "The famous Iris database, first used by Sir R.A. Fisher. The dataset is taken\n",
      "from Fisher's paper. Note that it's the same as in R, but not as in the UCI\n",
      "Machine Learning Repository, which has two wrong data points.\n",
      "\n",
      "This is perhaps the best known database to be found in the\n",
      "pattern recognition literature.  Fisher's paper is a classic in the field and\n",
      "is referenced frequently to this day.  (See Duda & Hart, for example.)  The\n",
      "data set contains 3 classes of 50 instances each, where each class refers to a\n",
      "type of iris plant.  One class is linearly separable from the other 2; the\n",
      "latter are NOT linearly separable from each other.\n",
      "\n",
      ".. topic:: References\n",
      "\n",
      "   - Fisher, R.A. \"The use of multiple measurements in taxonomic problems\"\n",
      "     Annual Eugenics, 7, Part II, 179-188 (1936); also in \"Contributions to\n",
      "     Mathematical Statistics\" (John Wiley, NY, 1950).\n",
      "   - Duda, R.O., & Hart, P.E. (1973) Pattern Classification and Scene Analysis.\n",
      "     (Q327.D83) John Wiley & Sons.  ISBN 0-471-22361-1.  See page 218.\n",
      "   - Dasarathy, B.V. (1980) \"Nosing Around the Neighborhood: A New System\n",
      "     Structure and Classification Rule for Recognition in Partially Exposed\n",
      "     Environments\".  IEEE Transactions on Pattern Analysis and Machine\n",
      "     Intelligence, Vol. PAMI-2, No. 1, 67-71.\n",
      "   - Gates, G.W. (1972) \"The Reduced Nearest Neighbor Rule\".  IEEE Transactions\n",
      "     on Information Theory, May 1972, 431-433.\n",
      "   - See also: 1988 MLC Proceedings, 54-64.  Cheeseman et al\"s AUTOCLASS II\n",
      "     conceptual clustering system finds 3 classes in the data.\n",
      "   - Many, many more ...\n"
     ]
    }
   ],
   "source": [
    "print(data_iris['DESCR'])"
   ]
  },
  {
   "cell_type": "markdown",
   "metadata": {},
   "source": [
    "- 꽃받침 길이(Sepal Length)\n",
    "- 꽃받침 폭(Sepal Width)\n",
    "- 꽃잎 길이(Petal Length)\n",
    "- 꽃잎 폭(Petal Width)"
   ]
  },
  {
   "cell_type": "code",
   "execution_count": 18,
   "metadata": {
    "ExecuteTime": {
     "end_time": "2021-08-08T07:16:35.674032Z",
     "start_time": "2021-08-08T07:16:35.656381Z"
    }
   },
   "outputs": [
    {
     "data": {
      "text/plain": [
       "array([[5.1, 3.5, 1.4, 0.2],\n",
       "       [4.9, 3. , 1.4, 0.2],\n",
       "       [4.7, 3.2, 1.3, 0.2],\n",
       "       [4.6, 3.1, 1.5, 0.2],\n",
       "       [5. , 3.6, 1.4, 0.2],\n",
       "       [5.4, 3.9, 1.7, 0.4],\n",
       "       [4.6, 3.4, 1.4, 0.3],\n",
       "       [5. , 3.4, 1.5, 0.2],\n",
       "       [4.4, 2.9, 1.4, 0.2],\n",
       "       [4.9, 3.1, 1.5, 0.1],\n",
       "       [5.4, 3.7, 1.5, 0.2],\n",
       "       [4.8, 3.4, 1.6, 0.2],\n",
       "       [4.8, 3. , 1.4, 0.1],\n",
       "       [4.3, 3. , 1.1, 0.1],\n",
       "       [5.8, 4. , 1.2, 0.2],\n",
       "       [5.7, 4.4, 1.5, 0.4],\n",
       "       [5.4, 3.9, 1.3, 0.4],\n",
       "       [5.1, 3.5, 1.4, 0.3],\n",
       "       [5.7, 3.8, 1.7, 0.3],\n",
       "       [5.1, 3.8, 1.5, 0.3],\n",
       "       [5.4, 3.4, 1.7, 0.2],\n",
       "       [5.1, 3.7, 1.5, 0.4],\n",
       "       [4.6, 3.6, 1. , 0.2],\n",
       "       [5.1, 3.3, 1.7, 0.5],\n",
       "       [4.8, 3.4, 1.9, 0.2],\n",
       "       [5. , 3. , 1.6, 0.2],\n",
       "       [5. , 3.4, 1.6, 0.4],\n",
       "       [5.2, 3.5, 1.5, 0.2],\n",
       "       [5.2, 3.4, 1.4, 0.2],\n",
       "       [4.7, 3.2, 1.6, 0.2],\n",
       "       [4.8, 3.1, 1.6, 0.2],\n",
       "       [5.4, 3.4, 1.5, 0.4],\n",
       "       [5.2, 4.1, 1.5, 0.1],\n",
       "       [5.5, 4.2, 1.4, 0.2],\n",
       "       [4.9, 3.1, 1.5, 0.2],\n",
       "       [5. , 3.2, 1.2, 0.2],\n",
       "       [5.5, 3.5, 1.3, 0.2],\n",
       "       [4.9, 3.6, 1.4, 0.1],\n",
       "       [4.4, 3. , 1.3, 0.2],\n",
       "       [5.1, 3.4, 1.5, 0.2],\n",
       "       [5. , 3.5, 1.3, 0.3],\n",
       "       [4.5, 2.3, 1.3, 0.3],\n",
       "       [4.4, 3.2, 1.3, 0.2],\n",
       "       [5. , 3.5, 1.6, 0.6],\n",
       "       [5.1, 3.8, 1.9, 0.4],\n",
       "       [4.8, 3. , 1.4, 0.3],\n",
       "       [5.1, 3.8, 1.6, 0.2],\n",
       "       [4.6, 3.2, 1.4, 0.2],\n",
       "       [5.3, 3.7, 1.5, 0.2],\n",
       "       [5. , 3.3, 1.4, 0.2],\n",
       "       [7. , 3.2, 4.7, 1.4],\n",
       "       [6.4, 3.2, 4.5, 1.5],\n",
       "       [6.9, 3.1, 4.9, 1.5],\n",
       "       [5.5, 2.3, 4. , 1.3],\n",
       "       [6.5, 2.8, 4.6, 1.5],\n",
       "       [5.7, 2.8, 4.5, 1.3],\n",
       "       [6.3, 3.3, 4.7, 1.6],\n",
       "       [4.9, 2.4, 3.3, 1. ],\n",
       "       [6.6, 2.9, 4.6, 1.3],\n",
       "       [5.2, 2.7, 3.9, 1.4],\n",
       "       [5. , 2. , 3.5, 1. ],\n",
       "       [5.9, 3. , 4.2, 1.5],\n",
       "       [6. , 2.2, 4. , 1. ],\n",
       "       [6.1, 2.9, 4.7, 1.4],\n",
       "       [5.6, 2.9, 3.6, 1.3],\n",
       "       [6.7, 3.1, 4.4, 1.4],\n",
       "       [5.6, 3. , 4.5, 1.5],\n",
       "       [5.8, 2.7, 4.1, 1. ],\n",
       "       [6.2, 2.2, 4.5, 1.5],\n",
       "       [5.6, 2.5, 3.9, 1.1],\n",
       "       [5.9, 3.2, 4.8, 1.8],\n",
       "       [6.1, 2.8, 4. , 1.3],\n",
       "       [6.3, 2.5, 4.9, 1.5],\n",
       "       [6.1, 2.8, 4.7, 1.2],\n",
       "       [6.4, 2.9, 4.3, 1.3],\n",
       "       [6.6, 3. , 4.4, 1.4],\n",
       "       [6.8, 2.8, 4.8, 1.4],\n",
       "       [6.7, 3. , 5. , 1.7],\n",
       "       [6. , 2.9, 4.5, 1.5],\n",
       "       [5.7, 2.6, 3.5, 1. ],\n",
       "       [5.5, 2.4, 3.8, 1.1],\n",
       "       [5.5, 2.4, 3.7, 1. ],\n",
       "       [5.8, 2.7, 3.9, 1.2],\n",
       "       [6. , 2.7, 5.1, 1.6],\n",
       "       [5.4, 3. , 4.5, 1.5],\n",
       "       [6. , 3.4, 4.5, 1.6],\n",
       "       [6.7, 3.1, 4.7, 1.5],\n",
       "       [6.3, 2.3, 4.4, 1.3],\n",
       "       [5.6, 3. , 4.1, 1.3],\n",
       "       [5.5, 2.5, 4. , 1.3],\n",
       "       [5.5, 2.6, 4.4, 1.2],\n",
       "       [6.1, 3. , 4.6, 1.4],\n",
       "       [5.8, 2.6, 4. , 1.2],\n",
       "       [5. , 2.3, 3.3, 1. ],\n",
       "       [5.6, 2.7, 4.2, 1.3],\n",
       "       [5.7, 3. , 4.2, 1.2],\n",
       "       [5.7, 2.9, 4.2, 1.3],\n",
       "       [6.2, 2.9, 4.3, 1.3],\n",
       "       [5.1, 2.5, 3. , 1.1],\n",
       "       [5.7, 2.8, 4.1, 1.3],\n",
       "       [6.3, 3.3, 6. , 2.5],\n",
       "       [5.8, 2.7, 5.1, 1.9],\n",
       "       [7.1, 3. , 5.9, 2.1],\n",
       "       [6.3, 2.9, 5.6, 1.8],\n",
       "       [6.5, 3. , 5.8, 2.2],\n",
       "       [7.6, 3. , 6.6, 2.1],\n",
       "       [4.9, 2.5, 4.5, 1.7],\n",
       "       [7.3, 2.9, 6.3, 1.8],\n",
       "       [6.7, 2.5, 5.8, 1.8],\n",
       "       [7.2, 3.6, 6.1, 2.5],\n",
       "       [6.5, 3.2, 5.1, 2. ],\n",
       "       [6.4, 2.7, 5.3, 1.9],\n",
       "       [6.8, 3. , 5.5, 2.1],\n",
       "       [5.7, 2.5, 5. , 2. ],\n",
       "       [5.8, 2.8, 5.1, 2.4],\n",
       "       [6.4, 3.2, 5.3, 2.3],\n",
       "       [6.5, 3. , 5.5, 1.8],\n",
       "       [7.7, 3.8, 6.7, 2.2],\n",
       "       [7.7, 2.6, 6.9, 2.3],\n",
       "       [6. , 2.2, 5. , 1.5],\n",
       "       [6.9, 3.2, 5.7, 2.3],\n",
       "       [5.6, 2.8, 4.9, 2. ],\n",
       "       [7.7, 2.8, 6.7, 2. ],\n",
       "       [6.3, 2.7, 4.9, 1.8],\n",
       "       [6.7, 3.3, 5.7, 2.1],\n",
       "       [7.2, 3.2, 6. , 1.8],\n",
       "       [6.2, 2.8, 4.8, 1.8],\n",
       "       [6.1, 3. , 4.9, 1.8],\n",
       "       [6.4, 2.8, 5.6, 2.1],\n",
       "       [7.2, 3. , 5.8, 1.6],\n",
       "       [7.4, 2.8, 6.1, 1.9],\n",
       "       [7.9, 3.8, 6.4, 2. ],\n",
       "       [6.4, 2.8, 5.6, 2.2],\n",
       "       [6.3, 2.8, 5.1, 1.5],\n",
       "       [6.1, 2.6, 5.6, 1.4],\n",
       "       [7.7, 3. , 6.1, 2.3],\n",
       "       [6.3, 3.4, 5.6, 2.4],\n",
       "       [6.4, 3.1, 5.5, 1.8],\n",
       "       [6. , 3. , 4.8, 1.8],\n",
       "       [6.9, 3.1, 5.4, 2.1],\n",
       "       [6.7, 3.1, 5.6, 2.4],\n",
       "       [6.9, 3.1, 5.1, 2.3],\n",
       "       [5.8, 2.7, 5.1, 1.9],\n",
       "       [6.8, 3.2, 5.9, 2.3],\n",
       "       [6.7, 3.3, 5.7, 2.5],\n",
       "       [6.7, 3. , 5.2, 2.3],\n",
       "       [6.3, 2.5, 5. , 1.9],\n",
       "       [6.5, 3. , 5.2, 2. ],\n",
       "       [6.2, 3.4, 5.4, 2.3],\n",
       "       [5.9, 3. , 5.1, 1.8]])"
      ]
     },
     "execution_count": 18,
     "metadata": {},
     "output_type": "execute_result"
    }
   ],
   "source": [
    "data_iris['data']"
   ]
  },
  {
   "cell_type": "code",
   "execution_count": 19,
   "metadata": {
    "ExecuteTime": {
     "end_time": "2021-08-08T07:16:35.825286Z",
     "start_time": "2021-08-08T07:16:35.819897Z"
    }
   },
   "outputs": [
    {
     "data": {
      "text/plain": [
       "['sepal length (cm)',\n",
       " 'sepal width (cm)',\n",
       " 'petal length (cm)',\n",
       " 'petal width (cm)']"
      ]
     },
     "execution_count": 19,
     "metadata": {},
     "output_type": "execute_result"
    }
   ],
   "source": [
    "data_iris['feature_names']"
   ]
  },
  {
   "cell_type": "code",
   "execution_count": 20,
   "metadata": {
    "ExecuteTime": {
     "end_time": "2021-08-08T07:16:35.973148Z",
     "start_time": "2021-08-08T07:16:35.966467Z"
    }
   },
   "outputs": [
    {
     "data": {
      "text/plain": [
       "array([0, 0, 0, 0, 0, 0, 0, 0, 0, 0, 0, 0, 0, 0, 0, 0, 0, 0, 0, 0, 0, 0,\n",
       "       0, 0, 0, 0, 0, 0, 0, 0, 0, 0, 0, 0, 0, 0, 0, 0, 0, 0, 0, 0, 0, 0,\n",
       "       0, 0, 0, 0, 0, 0, 1, 1, 1, 1, 1, 1, 1, 1, 1, 1, 1, 1, 1, 1, 1, 1,\n",
       "       1, 1, 1, 1, 1, 1, 1, 1, 1, 1, 1, 1, 1, 1, 1, 1, 1, 1, 1, 1, 1, 1,\n",
       "       1, 1, 1, 1, 1, 1, 1, 1, 1, 1, 1, 1, 2, 2, 2, 2, 2, 2, 2, 2, 2, 2,\n",
       "       2, 2, 2, 2, 2, 2, 2, 2, 2, 2, 2, 2, 2, 2, 2, 2, 2, 2, 2, 2, 2, 2,\n",
       "       2, 2, 2, 2, 2, 2, 2, 2, 2, 2, 2, 2, 2, 2, 2, 2, 2, 2])"
      ]
     },
     "execution_count": 20,
     "metadata": {},
     "output_type": "execute_result"
    }
   ],
   "source": [
    "data_iris['target']"
   ]
  },
  {
   "cell_type": "code",
   "execution_count": 65,
   "metadata": {
    "ExecuteTime": {
     "end_time": "2021-08-08T07:32:10.620700Z",
     "start_time": "2021-08-08T07:32:10.614530Z"
    }
   },
   "outputs": [
    {
     "data": {
      "text/plain": [
       "array(['setosa', 'versicolor', 'virginica'], dtype='<U10')"
      ]
     },
     "execution_count": 65,
     "metadata": {},
     "output_type": "execute_result"
    }
   ],
   "source": [
    "data_iris['target_names']"
   ]
  },
  {
   "cell_type": "code",
   "execution_count": 66,
   "metadata": {
    "ExecuteTime": {
     "end_time": "2021-08-08T07:36:12.822525Z",
     "start_time": "2021-08-08T07:36:12.801074Z"
    }
   },
   "outputs": [
    {
     "data": {
      "text/html": [
       "<div>\n",
       "<style scoped>\n",
       "    .dataframe tbody tr th:only-of-type {\n",
       "        vertical-align: middle;\n",
       "    }\n",
       "\n",
       "    .dataframe tbody tr th {\n",
       "        vertical-align: top;\n",
       "    }\n",
       "\n",
       "    .dataframe thead th {\n",
       "        text-align: right;\n",
       "    }\n",
       "</style>\n",
       "<table border=\"1\" class=\"dataframe\">\n",
       "  <thead>\n",
       "    <tr style=\"text-align: right;\">\n",
       "      <th></th>\n",
       "      <th>sepal length (cm)</th>\n",
       "      <th>sepal width (cm)</th>\n",
       "      <th>petal length (cm)</th>\n",
       "      <th>petal width (cm)</th>\n",
       "    </tr>\n",
       "  </thead>\n",
       "  <tbody>\n",
       "    <tr>\n",
       "      <th>0</th>\n",
       "      <td>5.1</td>\n",
       "      <td>3.5</td>\n",
       "      <td>1.4</td>\n",
       "      <td>0.2</td>\n",
       "    </tr>\n",
       "    <tr>\n",
       "      <th>1</th>\n",
       "      <td>4.9</td>\n",
       "      <td>3.0</td>\n",
       "      <td>1.4</td>\n",
       "      <td>0.2</td>\n",
       "    </tr>\n",
       "    <tr>\n",
       "      <th>2</th>\n",
       "      <td>4.7</td>\n",
       "      <td>3.2</td>\n",
       "      <td>1.3</td>\n",
       "      <td>0.2</td>\n",
       "    </tr>\n",
       "    <tr>\n",
       "      <th>3</th>\n",
       "      <td>4.6</td>\n",
       "      <td>3.1</td>\n",
       "      <td>1.5</td>\n",
       "      <td>0.2</td>\n",
       "    </tr>\n",
       "    <tr>\n",
       "      <th>4</th>\n",
       "      <td>5.0</td>\n",
       "      <td>3.6</td>\n",
       "      <td>1.4</td>\n",
       "      <td>0.2</td>\n",
       "    </tr>\n",
       "    <tr>\n",
       "      <th>...</th>\n",
       "      <td>...</td>\n",
       "      <td>...</td>\n",
       "      <td>...</td>\n",
       "      <td>...</td>\n",
       "    </tr>\n",
       "    <tr>\n",
       "      <th>145</th>\n",
       "      <td>6.7</td>\n",
       "      <td>3.0</td>\n",
       "      <td>5.2</td>\n",
       "      <td>2.3</td>\n",
       "    </tr>\n",
       "    <tr>\n",
       "      <th>146</th>\n",
       "      <td>6.3</td>\n",
       "      <td>2.5</td>\n",
       "      <td>5.0</td>\n",
       "      <td>1.9</td>\n",
       "    </tr>\n",
       "    <tr>\n",
       "      <th>147</th>\n",
       "      <td>6.5</td>\n",
       "      <td>3.0</td>\n",
       "      <td>5.2</td>\n",
       "      <td>2.0</td>\n",
       "    </tr>\n",
       "    <tr>\n",
       "      <th>148</th>\n",
       "      <td>6.2</td>\n",
       "      <td>3.4</td>\n",
       "      <td>5.4</td>\n",
       "      <td>2.3</td>\n",
       "    </tr>\n",
       "    <tr>\n",
       "      <th>149</th>\n",
       "      <td>5.9</td>\n",
       "      <td>3.0</td>\n",
       "      <td>5.1</td>\n",
       "      <td>1.8</td>\n",
       "    </tr>\n",
       "  </tbody>\n",
       "</table>\n",
       "<p>150 rows × 4 columns</p>\n",
       "</div>"
      ],
      "text/plain": [
       "     sepal length (cm)  sepal width (cm)  petal length (cm)  petal width (cm)\n",
       "0                  5.1               3.5                1.4               0.2\n",
       "1                  4.9               3.0                1.4               0.2\n",
       "2                  4.7               3.2                1.3               0.2\n",
       "3                  4.6               3.1                1.5               0.2\n",
       "4                  5.0               3.6                1.4               0.2\n",
       "..                 ...               ...                ...               ...\n",
       "145                6.7               3.0                5.2               2.3\n",
       "146                6.3               2.5                5.0               1.9\n",
       "147                6.5               3.0                5.2               2.0\n",
       "148                6.2               3.4                5.4               2.3\n",
       "149                5.9               3.0                5.1               1.8\n",
       "\n",
       "[150 rows x 4 columns]"
      ]
     },
     "execution_count": 66,
     "metadata": {},
     "output_type": "execute_result"
    }
   ],
   "source": [
    "df_iris = pd.DataFrame(data_iris['data'], columns=data_iris['feature_names'])\n",
    "df_iris"
   ]
  },
  {
   "cell_type": "code",
   "execution_count": 31,
   "metadata": {
    "ExecuteTime": {
     "end_time": "2021-08-08T07:20:15.682377Z",
     "start_time": "2021-08-08T07:20:14.054683Z"
    }
   },
   "outputs": [
    {
     "data": {
      "image/png": "[encoded data removed]",
      "text/plain": [
       "<Figure size 432x288 with 1 Axes>"
      ]
     },
     "metadata": {
      "needs_background": "light"
     },
     "output_type": "display_data"
    }
   ],
   "source": [
    "colors = ['r','g','b']\n",
    "for idx, row in df_iris[['sepal length (cm)','sepal width (cm)']].iterrows():\n",
    "    c = data_iris['target'][idx]\n",
    "    plt.scatter(row['sepal length (cm)'],\n",
    "                row['sepal width (cm)'],\n",
    "                color=colors[c], alpha=0.5)\n",
    "plt.xlabel('sepal length (cm)')\n",
    "plt.ylabel('sepal width (cm)')\n",
    "plt.grid(True)\n",
    "plt.show()"
   ]
  },
  {
   "cell_type": "code",
   "execution_count": 32,
   "metadata": {
    "ExecuteTime": {
     "end_time": "2021-08-08T07:20:17.218608Z",
     "start_time": "2021-08-08T07:20:15.684585Z"
    }
   },
   "outputs": [
    {
     "data": {
      "image/png": "[encoded data removed]",
      "text/plain": [
       "<Figure size 432x288 with 1 Axes>"
      ]
     },
     "metadata": {
      "needs_background": "light"
     },
     "output_type": "display_data"
    }
   ],
   "source": [
    "for idx, row in df_iris[['petal length (cm)','petal width (cm)']].iterrows():\n",
    "    c = data_iris['target'][idx]\n",
    "    plt.scatter(row['petal length (cm)'],\n",
    "                row['petal width (cm)'],\n",
    "                color=colors[c], alpha=0.5)\n",
    "plt.xlabel('petal length (cm)')\n",
    "plt.ylabel('petal width (cm)')\n",
    "plt.grid(True)\n",
    "plt.show()"
   ]
  },
  {
   "cell_type": "markdown",
   "metadata": {},
   "source": [
    "## 데이터 전처리\n",
    "<hr style=\"height:3px;border:none;color:#5F71F7;background-color:#203E60;\" />"
   ]
  },
  {
   "cell_type": "code",
   "execution_count": 33,
   "metadata": {
    "ExecuteTime": {
     "end_time": "2021-08-08T07:20:26.184140Z",
     "start_time": "2021-08-08T07:20:26.172702Z"
    }
   },
   "outputs": [
    {
     "data": {
      "text/plain": [
       "sepal length (cm)    0\n",
       "sepal width (cm)     0\n",
       "petal length (cm)    0\n",
       "petal width (cm)     0\n",
       "dtype: int64"
      ]
     },
     "execution_count": 33,
     "metadata": {},
     "output_type": "execute_result"
    }
   ],
   "source": [
    "df_iris.isnull().sum()"
   ]
  },
  {
   "cell_type": "markdown",
   "metadata": {},
   "source": [
    "## 피처 엔지니어링\n",
    "<hr style=\"height:3px;border:none;color:#5F71F7;background-color:#203E60;\" />"
   ]
  },
  {
   "cell_type": "code",
   "execution_count": 36,
   "metadata": {
    "ExecuteTime": {
     "end_time": "2021-08-08T07:21:40.120083Z",
     "start_time": "2021-08-08T07:21:40.109953Z"
    }
   },
   "outputs": [],
   "source": [
    "df_iris['sepal/petal length(ratio)'] = df_iris['sepal length (cm)'] / df_iris['petal length (cm)']"
   ]
  },
  {
   "cell_type": "code",
   "execution_count": 37,
   "metadata": {
    "ExecuteTime": {
     "end_time": "2021-08-08T07:21:49.541586Z",
     "start_time": "2021-08-08T07:21:49.534675Z"
    }
   },
   "outputs": [],
   "source": [
    "df_iris['sepal/petal width(ratio)'] = df_iris['sepal width (cm)'] / df_iris['petal width (cm)']"
   ]
  },
  {
   "cell_type": "code",
   "execution_count": 48,
   "metadata": {
    "ExecuteTime": {
     "end_time": "2021-08-08T07:26:11.905912Z",
     "start_time": "2021-08-08T07:26:11.901548Z"
    }
   },
   "outputs": [],
   "source": [
    "from sklearn.preprocessing import MinMaxScaler"
   ]
  },
  {
   "cell_type": "code",
   "execution_count": 49,
   "metadata": {
    "ExecuteTime": {
     "end_time": "2021-08-08T07:26:16.134427Z",
     "start_time": "2021-08-08T07:26:16.130804Z"
    }
   },
   "outputs": [],
   "source": [
    "mms = MinMaxScaler()"
   ]
  },
  {
   "cell_type": "code",
   "execution_count": 51,
   "metadata": {
    "ExecuteTime": {
     "end_time": "2021-08-08T07:26:51.030111Z",
     "start_time": "2021-08-08T07:26:51.009450Z"
    }
   },
   "outputs": [
    {
     "data": {
      "text/plain": [
       "array([[2.22222222e-01, 6.25000000e-01, 6.77966102e-02, 4.16666667e-02,\n",
       "        6.85336690e-01, 4.10577972e-01],\n",
       "       [1.66666667e-01, 4.16666667e-01, 6.77966102e-02, 4.16666667e-02,\n",
       "        6.47577093e-01, 3.47873501e-01],\n",
       "       [1.11111111e-01, 5.00000000e-01, 5.08474576e-02, 4.16666667e-02,\n",
       "        6.78075229e-01, 3.72955289e-01],\n",
       "       [8.33333333e-02, 4.58333333e-01, 8.47457627e-02, 4.16666667e-02,\n",
       "        5.33039648e-01, 3.60414395e-01],\n",
       "       [1.94444444e-01, 6.66666667e-01, 6.77966102e-02, 4.16666667e-02,\n",
       "        6.66456891e-01, 4.23118866e-01],\n",
       "       [3.05555556e-01, 7.91666667e-01, 1.18644068e-01, 1.25000000e-01,\n",
       "        5.62062711e-01, 2.16194111e-01],\n",
       "       [8.33333333e-02, 5.83333333e-01, 6.77966102e-02, 8.33333333e-02,\n",
       "        5.90937697e-01, 2.55906943e-01],\n",
       "       [1.94444444e-01, 5.83333333e-01, 8.47457627e-02, 4.16666667e-02,\n",
       "        6.03524229e-01, 3.98037077e-01],\n",
       "       [2.77777778e-02, 3.75000000e-01, 6.77966102e-02, 4.16666667e-02,\n",
       "        5.53178099e-01, 3.35332606e-01],\n",
       "       [1.66666667e-01, 4.58333333e-01, 8.47457627e-02, 0.00000000e+00,\n",
       "        5.85903084e-01, 7.49182116e-01],\n",
       "       [3.05555556e-01, 7.08333333e-01, 8.47457627e-02, 4.16666667e-02,\n",
       "        6.74008811e-01, 4.35659760e-01],\n",
       "       [1.38888889e-01, 5.83333333e-01, 1.01694915e-01, 4.16666667e-02,\n",
       "        5.15418502e-01, 3.98037077e-01],\n",
       "       [1.38888889e-01, 4.16666667e-01, 6.77966102e-02, 0.00000000e+00,\n",
       "        6.28697294e-01, 7.24100327e-01],\n",
       "       [0.00000000e+00, 4.16666667e-01, 1.69491525e-02, 0.00000000e+00,\n",
       "        7.55706848e-01, 7.24100327e-01],\n",
       "       [4.16666667e-01, 8.33333333e-01, 3.38983051e-02, 4.16666667e-02,\n",
       "        1.00000000e+00, 4.73282443e-01],\n",
       "       [3.88888889e-01, 1.00000000e+00, 8.47457627e-02, 1.25000000e-01,\n",
       "        7.26872247e-01, 2.47546347e-01],\n",
       "       [3.05555556e-01, 7.91666667e-01, 5.08474576e-02, 1.25000000e-01,\n",
       "        8.20399864e-01, 2.16194111e-01],\n",
       "       [2.22222222e-01, 6.25000000e-01, 6.77966102e-02, 8.33333333e-02,\n",
       "        6.85336690e-01, 2.64267539e-01],\n",
       "       [3.88888889e-01, 7.50000000e-01, 1.18644068e-01, 8.33333333e-02,\n",
       "        6.08706919e-01, 2.89349328e-01],\n",
       "       [2.22222222e-01, 7.50000000e-01, 8.47457627e-02, 8.33333333e-02,\n",
       "        6.21145374e-01, 2.89349328e-01],\n",
       "       [3.05555556e-01, 5.83333333e-01, 1.18644068e-01, 4.16666667e-02,\n",
       "        5.62062711e-01, 3.98037077e-01],\n",
       "       [2.22222222e-01, 7.08333333e-01, 8.47457627e-02, 1.25000000e-01,\n",
       "        6.21145374e-01, 2.03653217e-01],\n",
       "       [8.33333333e-02, 6.66666667e-01, 0.00000000e+00, 4.16666667e-02,\n",
       "        9.38325991e-01, 4.23118866e-01],\n",
       "       [2.22222222e-01, 5.41666667e-01, 1.18644068e-01, 1.66666667e-01,\n",
       "        5.15418502e-01, 1.37186478e-01],\n",
       "       [1.38888889e-01, 5.83333333e-01, 1.52542373e-01, 4.16666667e-02,\n",
       "        3.90215627e-01, 3.98037077e-01],\n",
       "       [1.94444444e-01, 4.16666667e-01, 1.01694915e-01, 4.16666667e-02,\n",
       "        5.48458150e-01, 3.47873501e-01],\n",
       "       [1.94444444e-01, 5.83333333e-01, 1.01694915e-01, 1.25000000e-01,\n",
       "        5.48458150e-01, 1.84841876e-01],\n",
       "       [2.50000000e-01, 6.25000000e-01, 8.47457627e-02, 4.16666667e-02,\n",
       "        6.38766520e-01, 4.10577972e-01],\n",
       "       [2.50000000e-01, 5.83333333e-01, 6.77966102e-02, 4.16666667e-02,\n",
       "        7.04216488e-01, 3.98037077e-01],\n",
       "       [1.11111111e-01, 5.00000000e-01, 1.01694915e-01, 4.16666667e-02,\n",
       "        4.98898678e-01, 3.72955289e-01],\n",
       "       [1.38888889e-01, 4.58333333e-01, 1.01694915e-01, 4.16666667e-02,\n",
       "        5.15418502e-01, 3.60414395e-01],\n",
       "       [3.05555556e-01, 5.83333333e-01, 8.47457627e-02, 1.25000000e-01,\n",
       "        6.74008811e-01, 1.84841876e-01],\n",
       "       [2.50000000e-01, 8.75000000e-01, 8.47457627e-02, 0.00000000e+00,\n",
       "        6.38766520e-01, 1.00000000e+00],\n",
       "       [3.33333333e-01, 9.16666667e-01, 6.77966102e-02, 4.16666667e-02,\n",
       "        7.60855884e-01, 4.98364231e-01],\n",
       "       [1.66666667e-01, 4.58333333e-01, 8.47457627e-02, 4.16666667e-02,\n",
       "        5.85903084e-01, 3.60414395e-01],\n",
       "       [1.94444444e-01, 5.00000000e-01, 3.38983051e-02, 4.16666667e-02,\n",
       "        8.23788546e-01, 3.72955289e-01],\n",
       "       [3.33333333e-01, 6.25000000e-01, 5.08474576e-02, 4.16666667e-02,\n",
       "        8.40731955e-01, 4.10577972e-01],\n",
       "       [1.66666667e-01, 6.66666667e-01, 6.77966102e-02, 0.00000000e+00,\n",
       "        6.47577093e-01, 8.74591058e-01],\n",
       "       [2.77777778e-02, 4.16666667e-01, 5.08474576e-02, 4.16666667e-02,\n",
       "        6.17078956e-01, 3.47873501e-01],\n",
       "       [2.22222222e-01, 5.83333333e-01, 8.47457627e-02, 4.16666667e-02,\n",
       "        6.21145374e-01, 3.98037077e-01],\n",
       "       [1.94444444e-01, 6.25000000e-01, 5.08474576e-02, 8.33333333e-02,\n",
       "        7.39071501e-01, 2.64267539e-01],\n",
       "       [5.55555556e-02, 1.25000000e-01, 5.08474576e-02, 8.33333333e-02,\n",
       "        6.37411047e-01, 1.63940385e-01],\n",
       "       [2.77777778e-02, 5.00000000e-01, 5.08474576e-02, 4.16666667e-02,\n",
       "        6.17078956e-01, 3.72955289e-01],\n",
       "       [1.94444444e-01, 6.25000000e-01, 1.01694915e-01, 2.08333333e-01,\n",
       "        5.48458150e-01, 1.17957107e-01],\n",
       "       [2.22222222e-01, 7.50000000e-01, 1.52542373e-01, 1.25000000e-01,\n",
       "        4.31949919e-01, 2.09923664e-01],\n",
       "       [1.38888889e-01, 4.16666667e-01, 6.77966102e-02, 8.33333333e-02,\n",
       "        6.28697294e-01, 2.22464558e-01],\n",
       "       [2.22222222e-01, 7.50000000e-01, 1.01694915e-01, 4.16666667e-02,\n",
       "        5.64977974e-01, 4.48200654e-01],\n",
       "       [8.33333333e-02, 5.00000000e-01, 6.77966102e-02, 4.16666667e-02,\n",
       "        5.90937697e-01, 3.72955289e-01],\n",
       "       [2.77777778e-01, 7.08333333e-01, 8.47457627e-02, 4.16666667e-02,\n",
       "        6.56387665e-01, 4.35659760e-01],\n",
       "       [1.94444444e-01, 5.41666667e-01, 6.77966102e-02, 4.16666667e-02,\n",
       "        6.66456891e-01, 3.85496183e-01],\n",
       "       [7.50000000e-01, 5.00000000e-01, 6.27118644e-01, 5.41666667e-01,\n",
       "        1.16130846e-01, 2.89764761e-02],\n",
       "       [5.83333333e-01, 5.00000000e-01, 5.93220339e-01, 5.83333333e-01,\n",
       "        9.83847283e-02, 2.51544893e-02],\n",
       "       [7.22222222e-01, 4.58333333e-01, 6.61016949e-01, 5.83333333e-01,\n",
       "        9.46687045e-02, 2.34823700e-02],\n",
       "       [3.33333333e-01, 1.25000000e-01, 5.08474576e-01, 5.00000000e-01,\n",
       "        8.59030837e-02, 1.60221458e-02],\n",
       "       [6.11111111e-01, 3.33333333e-01, 6.10169492e-01, 5.83333333e-01,\n",
       "        9.59586286e-02, 1.84660124e-02],\n",
       "       [3.88888889e-01, 3.33333333e-01, 5.93220339e-01, 5.00000000e-01,\n",
       "        5.72687225e-02, 2.56689875e-02],\n",
       "       [5.55555556e-01, 5.41666667e-01, 6.27118644e-01, 6.25000000e-01,\n",
       "        7.67644578e-02, 2.33778626e-02],\n",
       "       [1.66666667e-01, 1.66666667e-01, 3.89830508e-01, 3.75000000e-01,\n",
       "        1.14937926e-01, 3.18429662e-02],\n",
       "       [6.38888889e-01, 3.75000000e-01, 6.10169492e-01, 5.00000000e-01,\n",
       "        1.01704654e-01, 2.75983558e-02],\n",
       "       [2.50000000e-01, 2.91666667e-01, 4.91525424e-01, 5.41666667e-01,\n",
       "        7.48898678e-02, 2.00186945e-02],\n",
       "       [1.94444444e-01, 0.00000000e+00, 4.23728814e-01, 3.75000000e-01,\n",
       "        1.00062933e-01, 2.18102508e-02],\n",
       "       [4.44444444e-01, 4.16666667e-01, 5.42372881e-01, 5.83333333e-01,\n",
       "        9.37696665e-02, 2.18102508e-02],\n",
       "       [4.72222222e-01, 8.33333333e-02, 5.08474576e-01, 3.75000000e-01,\n",
       "        1.18942731e-01, 2.68266085e-02],\n",
       "       [5.00000000e-01, 3.75000000e-01, 6.27118644e-01, 5.41666667e-01,\n",
       "        6.55169182e-02, 2.36018071e-02],\n",
       "       [3.61111111e-01, 3.75000000e-01, 4.40677966e-01, 5.00000000e-01,\n",
       "        1.33627019e-01, 2.75983558e-02],\n",
       "       [6.66666667e-01, 4.58333333e-01, 5.76271186e-01, 5.41666667e-01,\n",
       "        1.24949940e-01, 2.71849198e-02],\n",
       "       [3.61111111e-01, 4.16666667e-01, 5.93220339e-01, 5.83333333e-01,\n",
       "        5.13950073e-02, 2.18102508e-02],\n",
       "       [4.16666667e-01, 2.91666667e-01, 5.25423729e-01, 3.75000000e-01,\n",
       "        9.63790695e-02, 3.93675027e-02],\n",
       "       [5.27777778e-01, 8.33333333e-02, 5.93220339e-01, 5.83333333e-01,\n",
       "        8.66372981e-02, 8.43329698e-03],\n",
       "       [3.61111111e-01, 2.08333333e-01, 4.91525424e-01, 4.16666667e-01,\n",
       "        1.01999322e-01, 2.86507386e-02],\n",
       "       [4.44444444e-01, 5.00000000e-01, 6.44067797e-01, 7.08333333e-01,\n",
       "        4.73568282e-02, 1.62365201e-02],\n",
       "       [5.00000000e-01, 3.33333333e-01, 5.08474576e-01, 5.00000000e-01,\n",
       "        1.25550661e-01, 2.56689875e-02],\n",
       "       [5.55555556e-01, 2.08333333e-01, 6.61016949e-01, 5.83333333e-01,\n",
       "        6.23033354e-02, 1.34496547e-02],\n",
       "       [5.00000000e-01, 3.33333333e-01, 6.27118644e-01, 4.58333333e-01,\n",
       "        6.55169182e-02, 3.01708470e-02],\n",
       "       [5.83333333e-01, 3.75000000e-01, 5.59322034e-01, 5.00000000e-01,\n",
       "        1.15869276e-01, 2.75983558e-02],\n",
       "       [6.38888889e-01, 4.16666667e-01, 5.76271186e-01, 5.41666667e-01,\n",
       "        1.18942731e-01, 2.53933635e-02],\n",
       "       [6.94444444e-01, 3.33333333e-01, 6.44067797e-01, 5.41666667e-01,\n",
       "        9.69162996e-02, 2.18102508e-02],\n",
       "       [6.66666667e-01, 4.16666667e-01, 6.77966102e-01, 6.66666667e-01,\n",
       "        7.66519824e-02, 1.59086535e-02],\n",
       "       [4.72222222e-01, 3.75000000e-01, 5.93220339e-01, 5.83333333e-01,\n",
       "        7.48898678e-02, 2.01381316e-02],\n",
       "       [3.88888889e-01, 2.50000000e-01, 4.23728814e-01, 3.75000000e-01,\n",
       "        1.52926369e-01, 3.68593239e-02],\n",
       "       [3.33333333e-01, 1.66666667e-01, 4.74576271e-01, 4.16666667e-01,\n",
       "        1.05031301e-01, 2.63705760e-02],\n",
       "       [3.33333333e-01, 1.66666667e-01, 4.57627119e-01, 3.75000000e-01,\n",
       "        1.15370877e-01, 3.18429662e-02],\n",
       "       [4.16666667e-01, 2.91666667e-01, 4.91525424e-01, 4.58333333e-01,\n",
       "        1.15554049e-01, 2.80806979e-02],\n",
       "       [4.72222222e-01, 2.91666667e-01, 6.94915254e-01, 6.25000000e-01,\n",
       "        3.34283493e-02, 1.39721919e-02],\n",
       "       [3.05555556e-01, 4.16666667e-01, 5.93220339e-01, 5.83333333e-01,\n",
       "        3.96475771e-02, 2.18102508e-02],\n",
       "       [4.72222222e-01, 5.83333333e-01, 5.93220339e-01, 6.25000000e-01,\n",
       "        7.48898678e-02, 2.49454744e-02],\n",
       "       [6.66666667e-01, 4.58333333e-01, 6.27118644e-01, 5.83333333e-01,\n",
       "        9.92595370e-02, 2.34823700e-02],\n",
       "       [5.55555556e-01, 1.25000000e-01, 5.76271186e-01, 5.00000000e-01,\n",
       "        1.00921105e-01, 1.60221458e-02],\n",
       "       [3.61111111e-01, 4.16666667e-01, 5.25423729e-01, 5.00000000e-01,\n",
       "        8.34855485e-02, 2.95277242e-02],\n",
       "       [3.33333333e-01, 2.08333333e-01, 5.08474576e-01, 5.00000000e-01,\n",
       "        8.59030837e-02, 1.98808825e-02],\n",
       "       [3.33333333e-01, 2.50000000e-01, 5.76271186e-01, 4.58333333e-01,\n",
       "        5.28634361e-02, 2.59905489e-02],\n",
       "       [5.00000000e-01, 4.16666667e-01, 6.10169492e-01, 5.41666667e-01,\n",
       "        7.29745260e-02, 2.53933635e-02],\n",
       "       [4.16666667e-01, 2.50000000e-01, 5.08474576e-01, 4.58333333e-01,\n",
       "        1.05726872e-01, 2.59905489e-02],\n",
       "       [1.94444444e-01, 1.25000000e-01, 3.89830508e-01, 3.75000000e-01,\n",
       "        1.22947537e-01, 2.93347874e-02],\n",
       "       [3.61111111e-01, 2.91666667e-01, 5.42372881e-01, 5.00000000e-01,\n",
       "        7.48898678e-02, 2.37396192e-02],\n",
       "       [3.88888889e-01, 4.16666667e-01, 5.42372881e-01, 4.58333333e-01,\n",
       "        8.11831340e-02, 3.43511450e-02],\n",
       "       [3.88888889e-01, 3.75000000e-01, 5.42372881e-01, 5.00000000e-01,\n",
       "        8.11831340e-02, 2.75983558e-02],\n",
       "       [5.27777778e-01, 3.75000000e-01, 5.59322034e-01, 5.00000000e-01,\n",
       "        1.03575453e-01, 2.75983558e-02],\n",
       "       [2.22222222e-01, 2.08333333e-01, 3.38983051e-01, 4.16666667e-01,\n",
       "        1.71806167e-01, 2.86507386e-02],\n",
       "       [3.88888889e-01, 3.33333333e-01, 5.25423729e-01, 5.00000000e-01,\n",
       "        8.99323090e-02, 2.56689875e-02],\n",
       "       [5.55555556e-01, 5.41666667e-01, 8.47457627e-01, 1.00000000e+00,\n",
       "        0.00000000e+00, 4.75463468e-03],\n",
       "       [4.16666667e-01, 2.91666667e-01, 6.94915254e-01, 7.50000000e-01,\n",
       "        2.30629697e-02, 7.28921540e-03],\n",
       "       [7.77777778e-01, 4.16666667e-01, 8.30508475e-01, 8.33333333e-01,\n",
       "        4.05435675e-02, 7.47780028e-03],\n",
       "       [5.55555556e-01, 3.75000000e-01, 7.79661017e-01, 7.08333333e-01,\n",
       "        1.98237885e-02, 1.20562220e-02],\n",
       "       [6.11111111e-01, 4.16666667e-01, 8.13559322e-01, 8.75000000e-01,\n",
       "        1.86844904e-02, 5.84911272e-03],\n",
       "       [9.16666667e-01, 4.16666667e-01, 9.49152542e-01, 8.33333333e-01,\n",
       "        2.68321986e-02, 7.47780028e-03],\n",
       "       [1.66666667e-01, 2.08333333e-01, 5.93220339e-01, 6.66666667e-01,\n",
       "        1.02790015e-02, 8.53165694e-03],\n",
       "       [8.33333333e-01, 3.75000000e-01, 8.98305085e-01, 7.08333333e-01,\n",
       "        2.87392490e-02, 1.20562220e-02],\n",
       "       [6.66666667e-01, 2.08333333e-01, 8.13559322e-01, 7.08333333e-01,\n",
       "        2.77988759e-02, 6.48249122e-03],\n",
       "       [8.05555556e-01, 6.66666667e-01, 8.64406780e-01, 1.00000000e+00,\n",
       "        3.44478949e-02, 7.76444929e-03],\n",
       "       [6.11111111e-01, 5.00000000e-01, 6.94915254e-01, 7.91666667e-01,\n",
       "        5.93417984e-02, 1.17775354e-02],\n",
       "       [5.83333333e-01, 2.91666667e-01, 7.28813559e-01, 7.50000000e-01,\n",
       "        4.16424237e-02, 7.28921540e-03],\n",
       "       [6.94444444e-01, 4.16666667e-01, 7.62711864e-01, 8.33333333e-01,\n",
       "        4.92591109e-02, 7.47780028e-03],\n",
       "       [3.88888889e-01, 2.08333333e-01, 6.77966102e-01, 7.91666667e-01,\n",
       "        2.37885463e-02, 2.99890949e-03],\n",
       "       [4.16666667e-01, 3.33333333e-01, 6.94915254e-01, 9.58333333e-01,\n",
       "        2.30629697e-02, 9.08760451e-04],\n",
       "       [5.83333333e-01, 5.00000000e-01, 7.28813559e-01, 9.16666667e-01,\n",
       "        4.16424237e-02, 6.54307525e-03],\n",
       "       [6.11111111e-01, 4.16666667e-01, 7.62711864e-01, 7.08333333e-01,\n",
       "        3.48418102e-02, 1.34496547e-02],\n",
       "       [9.44444444e-01, 7.50000000e-01, 9.66101695e-01, 8.75000000e-01,\n",
       "        2.62344664e-02, 1.49697631e-02],\n",
       "       [9.44444444e-01, 2.50000000e-01, 1.00000000e+00, 9.16666667e-01,\n",
       "        1.74296112e-02, 0.00000000e+00],\n",
       "       [4.72222222e-01, 8.33333333e-02, 6.77966102e-01, 5.83333333e-01,\n",
       "        3.96475771e-02, 8.43329698e-03],\n",
       "       [7.22222222e-01, 5.00000000e-01, 7.96610169e-01, 9.16666667e-01,\n",
       "        4.24298632e-02, 6.54307525e-03],\n",
       "       [3.61111111e-01, 3.33333333e-01, 6.61016949e-01, 7.91666667e-01,\n",
       "        2.45437382e-02, 6.76117775e-03],\n",
       "       [9.44444444e-01, 3.33333333e-01, 9.66101695e-01, 7.91666667e-01,\n",
       "        2.62344664e-02, 6.76117775e-03],\n",
       "       [5.55555556e-01, 2.91666667e-01, 6.61016949e-01, 7.08333333e-01,\n",
       "        6.23033354e-02, 9.26935660e-03],\n",
       "       [6.66666667e-01, 5.41666667e-01, 7.96610169e-01, 8.33333333e-01,\n",
       "        3.31555762e-02, 1.10609129e-02],\n",
       "       [8.05555556e-01, 5.00000000e-01, 8.47457627e-01, 7.08333333e-01,\n",
       "        3.96475771e-02, 1.62365201e-02],\n",
       "       [5.27777778e-01, 3.33333333e-01, 6.44067797e-01, 7.08333333e-01,\n",
       "        6.38766520e-02, 1.06627893e-02],\n",
       "       [5.00000000e-01, 4.16666667e-01, 6.61016949e-01, 7.08333333e-01,\n",
       "        5.15148791e-02, 1.34496547e-02],\n",
       "       [5.83333333e-01, 3.33333333e-01, 7.79661017e-01, 8.33333333e-01,\n",
       "        2.45437382e-02, 5.08905852e-03],\n",
       "       [8.05555556e-01, 4.16666667e-01, 8.13559322e-01, 6.25000000e-01,\n",
       "        5.05848397e-02, 1.86750273e-02],\n",
       "       [8.61111111e-01, 3.33333333e-01, 8.64406780e-01, 7.50000000e-01,\n",
       "        4.31140319e-02, 8.60930953e-03],\n",
       "       [1.00000000e+00, 7.50000000e-01, 9.15254237e-01, 7.91666667e-01,\n",
       "        4.87334802e-02, 1.93020720e-02],\n",
       "       [5.83333333e-01, 3.33333333e-01, 7.79661017e-01, 8.75000000e-01,\n",
       "        2.45437382e-02, 3.56895013e-03],\n",
       "       [5.55555556e-01, 3.33333333e-01, 6.94915254e-01, 5.83333333e-01,\n",
       "        4.89764188e-02, 1.84660124e-02],\n",
       "       [5.00000000e-01, 2.50000000e-01, 7.79661017e-01, 5.41666667e-01,\n",
       "        1.03838892e-02, 1.82271382e-02],\n",
       "       [9.44444444e-01, 4.16666667e-01, 8.64406780e-01, 9.16666667e-01,\n",
       "        5.61132375e-02, 4.36205016e-03],\n",
       "       [5.55555556e-01, 5.83333333e-01, 7.79661017e-01, 9.58333333e-01,\n",
       "        1.98237885e-02, 7.17920756e-03],\n",
       "       [5.83333333e-01, 4.58333333e-01, 7.62711864e-01, 7.08333333e-01,\n",
       "        3.00360433e-02, 1.48430874e-02],\n",
       "       [4.72222222e-01, 4.16666667e-01, 6.44067797e-01, 7.08333333e-01,\n",
       "        5.28634361e-02, 1.34496547e-02],\n",
       "       [7.22222222e-01, 4.58333333e-01, 7.45762712e-01, 8.33333333e-01,\n",
       "        6.02055800e-02, 8.67217116e-03],\n",
       "       [6.66666667e-01, 4.58333333e-01, 7.79661017e-01, 9.58333333e-01,\n",
       "        3.87035872e-02, 4.04398401e-03],\n",
       "       [7.22222222e-01, 4.58333333e-01, 6.94915254e-01, 9.16666667e-01,\n",
       "        8.00725577e-02, 5.45256270e-03],\n",
       "       [4.16666667e-01, 2.91666667e-01, 6.94915254e-01, 7.50000000e-01,\n",
       "        2.30629697e-02, 7.28921540e-03],\n",
       "       [6.94444444e-01, 5.00000000e-01, 8.30508475e-01, 9.16666667e-01,\n",
       "        2.71037109e-02, 6.54307525e-03],\n",
       "       [6.66666667e-01, 5.41666667e-01, 7.96610169e-01, 1.00000000e+00,\n",
       "        3.31555762e-02, 4.75463468e-03],\n",
       "       [6.66666667e-01, 4.16666667e-01, 7.11864407e-01, 9.16666667e-01,\n",
       "        6.30294815e-02, 4.36205016e-03],\n",
       "       [5.55555556e-01, 2.08333333e-01, 6.77966102e-01, 7.50000000e-01,\n",
       "        5.55066079e-02, 4.64902715e-03],\n",
       "       [6.11111111e-01, 4.16666667e-01, 7.11864407e-01, 7.91666667e-01,\n",
       "        5.28634361e-02, 9.26935660e-03],\n",
       "       [5.27777778e-01, 5.83333333e-01, 7.45762712e-01, 9.16666667e-01,\n",
       "        2.59422418e-02, 8.72410033e-03],\n",
       "       [4.44444444e-01, 4.16666667e-01, 6.94915254e-01, 7.08333333e-01,\n",
       "        2.82456595e-02, 1.34496547e-02]])"
      ]
     },
     "execution_count": 51,
     "metadata": {},
     "output_type": "execute_result"
    }
   ],
   "source": [
    "df_iris = mms.fit_transform(df_iris)\n",
    "df_iris"
   ]
  },
  {
   "cell_type": "code",
   "execution_count": 54,
   "metadata": {
    "ExecuteTime": {
     "end_time": "2021-08-08T07:28:17.117030Z",
     "start_time": "2021-08-08T07:28:17.094443Z"
    }
   },
   "outputs": [
    {
     "data": {
      "text/html": [
       "<div>\n",
       "<style scoped>\n",
       "    .dataframe tbody tr th:only-of-type {\n",
       "        vertical-align: middle;\n",
       "    }\n",
       "\n",
       "    .dataframe tbody tr th {\n",
       "        vertical-align: top;\n",
       "    }\n",
       "\n",
       "    .dataframe thead th {\n",
       "        text-align: right;\n",
       "    }\n",
       "</style>\n",
       "<table border=\"1\" class=\"dataframe\">\n",
       "  <thead>\n",
       "    <tr style=\"text-align: right;\">\n",
       "      <th></th>\n",
       "      <th>sepal length (cm)</th>\n",
       "      <th>sepal width (cm)</th>\n",
       "      <th>petal length (cm)</th>\n",
       "      <th>petal width (cm)</th>\n",
       "      <th>sepal/petal length(ratio)</th>\n",
       "      <th>sepal/petal width(ratio)</th>\n",
       "    </tr>\n",
       "  </thead>\n",
       "  <tbody>\n",
       "    <tr>\n",
       "      <th>0</th>\n",
       "      <td>0.222222</td>\n",
       "      <td>0.625000</td>\n",
       "      <td>0.067797</td>\n",
       "      <td>0.041667</td>\n",
       "      <td>0.685337</td>\n",
       "      <td>0.410578</td>\n",
       "    </tr>\n",
       "    <tr>\n",
       "      <th>1</th>\n",
       "      <td>0.166667</td>\n",
       "      <td>0.416667</td>\n",
       "      <td>0.067797</td>\n",
       "      <td>0.041667</td>\n",
       "      <td>0.647577</td>\n",
       "      <td>0.347874</td>\n",
       "    </tr>\n",
       "    <tr>\n",
       "      <th>2</th>\n",
       "      <td>0.111111</td>\n",
       "      <td>0.500000</td>\n",
       "      <td>0.050847</td>\n",
       "      <td>0.041667</td>\n",
       "      <td>0.678075</td>\n",
       "      <td>0.372955</td>\n",
       "    </tr>\n",
       "    <tr>\n",
       "      <th>3</th>\n",
       "      <td>0.083333</td>\n",
       "      <td>0.458333</td>\n",
       "      <td>0.084746</td>\n",
       "      <td>0.041667</td>\n",
       "      <td>0.533040</td>\n",
       "      <td>0.360414</td>\n",
       "    </tr>\n",
       "    <tr>\n",
       "      <th>4</th>\n",
       "      <td>0.194444</td>\n",
       "      <td>0.666667</td>\n",
       "      <td>0.067797</td>\n",
       "      <td>0.041667</td>\n",
       "      <td>0.666457</td>\n",
       "      <td>0.423119</td>\n",
       "    </tr>\n",
       "    <tr>\n",
       "      <th>...</th>\n",
       "      <td>...</td>\n",
       "      <td>...</td>\n",
       "      <td>...</td>\n",
       "      <td>...</td>\n",
       "      <td>...</td>\n",
       "      <td>...</td>\n",
       "    </tr>\n",
       "    <tr>\n",
       "      <th>145</th>\n",
       "      <td>0.666667</td>\n",
       "      <td>0.416667</td>\n",
       "      <td>0.711864</td>\n",
       "      <td>0.916667</td>\n",
       "      <td>0.063029</td>\n",
       "      <td>0.004362</td>\n",
       "    </tr>\n",
       "    <tr>\n",
       "      <th>146</th>\n",
       "      <td>0.555556</td>\n",
       "      <td>0.208333</td>\n",
       "      <td>0.677966</td>\n",
       "      <td>0.750000</td>\n",
       "      <td>0.055507</td>\n",
       "      <td>0.004649</td>\n",
       "    </tr>\n",
       "    <tr>\n",
       "      <th>147</th>\n",
       "      <td>0.611111</td>\n",
       "      <td>0.416667</td>\n",
       "      <td>0.711864</td>\n",
       "      <td>0.791667</td>\n",
       "      <td>0.052863</td>\n",
       "      <td>0.009269</td>\n",
       "    </tr>\n",
       "    <tr>\n",
       "      <th>148</th>\n",
       "      <td>0.527778</td>\n",
       "      <td>0.583333</td>\n",
       "      <td>0.745763</td>\n",
       "      <td>0.916667</td>\n",
       "      <td>0.025942</td>\n",
       "      <td>0.008724</td>\n",
       "    </tr>\n",
       "    <tr>\n",
       "      <th>149</th>\n",
       "      <td>0.444444</td>\n",
       "      <td>0.416667</td>\n",
       "      <td>0.694915</td>\n",
       "      <td>0.708333</td>\n",
       "      <td>0.028246</td>\n",
       "      <td>0.013450</td>\n",
       "    </tr>\n",
       "  </tbody>\n",
       "</table>\n",
       "<p>150 rows × 6 columns</p>\n",
       "</div>"
      ],
      "text/plain": [
       "     sepal length (cm)  sepal width (cm)  petal length (cm)  petal width (cm)  \\\n",
       "0             0.222222          0.625000           0.067797          0.041667   \n",
       "1             0.166667          0.416667           0.067797          0.041667   \n",
       "2             0.111111          0.500000           0.050847          0.041667   \n",
       "3             0.083333          0.458333           0.084746          0.041667   \n",
       "4             0.194444          0.666667           0.067797          0.041667   \n",
       "..                 ...               ...                ...               ...   \n",
       "145           0.666667          0.416667           0.711864          0.916667   \n",
       "146           0.555556          0.208333           0.677966          0.750000   \n",
       "147           0.611111          0.416667           0.711864          0.791667   \n",
       "148           0.527778          0.583333           0.745763          0.916667   \n",
       "149           0.444444          0.416667           0.694915          0.708333   \n",
       "\n",
       "     sepal/petal length(ratio)  sepal/petal width(ratio)  \n",
       "0                     0.685337                  0.410578  \n",
       "1                     0.647577                  0.347874  \n",
       "2                     0.678075                  0.372955  \n",
       "3                     0.533040                  0.360414  \n",
       "4                     0.666457                  0.423119  \n",
       "..                         ...                       ...  \n",
       "145                   0.063029                  0.004362  \n",
       "146                   0.055507                  0.004649  \n",
       "147                   0.052863                  0.009269  \n",
       "148                   0.025942                  0.008724  \n",
       "149                   0.028246                  0.013450  \n",
       "\n",
       "[150 rows x 6 columns]"
      ]
     },
     "execution_count": 54,
     "metadata": {},
     "output_type": "execute_result"
    }
   ],
   "source": [
    "df_iris = pd.DataFrame(df_iris, columns=data_iris['feature_names']+['sepal/petal length(ratio)',\n",
    "                                                                    'sepal/petal width(ratio)'])\n",
    "df_iris"
   ]
  },
  {
   "cell_type": "code",
   "execution_count": 55,
   "metadata": {
    "ExecuteTime": {
     "end_time": "2021-08-08T07:28:20.305188Z",
     "start_time": "2021-08-08T07:28:18.747222Z"
    }
   },
   "outputs": [
    {
     "data": {
      "image/png": "[encoded data removed]",
      "text/plain": [
       "<Figure size 432x288 with 1 Axes>"
      ]
     },
     "metadata": {
      "needs_background": "light"
     },
     "output_type": "display_data"
    }
   ],
   "source": [
    "colors = ['r','g','b']\n",
    "for idx, row in df_iris[['sepal/petal length(ratio)','sepal/petal width(ratio)']].iterrows():\n",
    "    c = data_iris['target'][idx]\n",
    "    plt.scatter(row['sepal/petal length(ratio)'],\n",
    "                row['sepal/petal width(ratio)'],\n",
    "                color=colors[c], alpha=0.5)\n",
    "plt.xlabel('sepal/petal length(ratio)')\n",
    "plt.ylabel('sepal/petal width(ratio)')\n",
    "plt.grid(True)\n",
    "plt.show()"
   ]
  },
  {
   "cell_type": "markdown",
   "metadata": {},
   "source": [
    "## 모델링\n",
    "<hr style=\"height:3px;border:none;color:#5F71F7;background-color:#203E60;\" />"
   ]
  },
  {
   "cell_type": "code",
   "execution_count": 56,
   "metadata": {
    "ExecuteTime": {
     "end_time": "2021-08-08T07:28:39.782626Z",
     "start_time": "2021-08-08T07:28:39.774442Z"
    }
   },
   "outputs": [],
   "source": [
    "from sklearn.model_selection import train_test_split\n",
    "X_train, X_test, y_train, y_test = train_test_split(df_iris, \n",
    "                                                    data_iris['target'], \n",
    "                                                    test_size=0.2,\n",
    "                                                    random_state=42)"
   ]
  },
  {
   "cell_type": "code",
   "execution_count": 57,
   "metadata": {
    "ExecuteTime": {
     "end_time": "2021-08-08T07:28:39.978652Z",
     "start_time": "2021-08-08T07:28:39.974509Z"
    }
   },
   "outputs": [],
   "source": [
    "from sklearn.neighbors import KNeighborsClassifier"
   ]
  },
  {
   "cell_type": "code",
   "execution_count": 58,
   "metadata": {
    "ExecuteTime": {
     "end_time": "2021-08-08T07:28:40.193718Z",
     "start_time": "2021-08-08T07:28:40.189741Z"
    }
   },
   "outputs": [],
   "source": [
    "model = KNeighborsClassifier()"
   ]
  },
  {
   "cell_type": "code",
   "execution_count": 59,
   "metadata": {
    "ExecuteTime": {
     "end_time": "2021-08-08T07:28:40.459201Z",
     "start_time": "2021-08-08T07:28:40.446859Z"
    }
   },
   "outputs": [
    {
     "data": {
      "text/plain": [
       "KNeighborsClassifier()"
      ]
     },
     "execution_count": 59,
     "metadata": {},
     "output_type": "execute_result"
    }
   ],
   "source": [
    "model.fit(X_train, y_train)"
   ]
  },
  {
   "cell_type": "code",
   "execution_count": 64,
   "metadata": {
    "ExecuteTime": {
     "end_time": "2021-08-08T07:29:04.572133Z",
     "start_time": "2021-08-08T07:29:04.551667Z"
    }
   },
   "outputs": [
    {
     "data": {
      "text/plain": [
       "0.9666666666666667"
      ]
     },
     "execution_count": 64,
     "metadata": {},
     "output_type": "execute_result"
    }
   ],
   "source": [
    "model.score(X_train, y_train)"
   ]
  },
  {
   "cell_type": "markdown",
   "metadata": {},
   "source": [
    "## 모델 평가\n",
    "<hr style=\"height:3px;border:none;color:#5F71F7;background-color:#203E60;\" />"
   ]
  },
  {
   "cell_type": "code",
   "execution_count": 60,
   "metadata": {
    "ExecuteTime": {
     "end_time": "2021-08-08T07:28:41.059513Z",
     "start_time": "2021-08-08T07:28:41.043537Z"
    }
   },
   "outputs": [
    {
     "data": {
      "text/plain": [
       "1.0"
      ]
     },
     "execution_count": 60,
     "metadata": {},
     "output_type": "execute_result"
    }
   ],
   "source": [
    "model.score(X_test, y_test)"
   ]
  },
  {
   "cell_type": "markdown",
   "metadata": {},
   "source": [
    "## 결과 예측\n",
    "<hr style=\"height:3px;border:none;color:#5F71F7;background-color:#203E60;\" />"
   ]
  },
  {
   "cell_type": "code",
   "execution_count": 61,
   "metadata": {
    "ExecuteTime": {
     "end_time": "2021-08-08T07:28:41.598378Z",
     "start_time": "2021-08-08T07:28:41.583868Z"
    }
   },
   "outputs": [
    {
     "data": {
      "text/plain": [
       "array([1, 0, 2, 1, 1, 0, 1, 2, 1, 1, 2, 0, 0, 0, 0, 1, 2, 1, 1, 2, 0, 2,\n",
       "       0, 2, 2, 2, 2, 2, 0, 0])"
      ]
     },
     "execution_count": 61,
     "metadata": {},
     "output_type": "execute_result"
    }
   ],
   "source": [
    "model.predict(X_test)"
   ]
  },
  {
   "cell_type": "code",
   "execution_count": 62,
   "metadata": {
    "ExecuteTime": {
     "end_time": "2021-08-08T07:28:42.524041Z",
     "start_time": "2021-08-08T07:28:42.506384Z"
    }
   },
   "outputs": [
    {
     "data": {
      "text/html": [
       "<div>\n",
       "<style scoped>\n",
       "    .dataframe tbody tr th:only-of-type {\n",
       "        vertical-align: middle;\n",
       "    }\n",
       "\n",
       "    .dataframe tbody tr th {\n",
       "        vertical-align: top;\n",
       "    }\n",
       "\n",
       "    .dataframe thead th {\n",
       "        text-align: right;\n",
       "    }\n",
       "</style>\n",
       "<table border=\"1\" class=\"dataframe\">\n",
       "  <thead>\n",
       "    <tr style=\"text-align: right;\">\n",
       "      <th></th>\n",
       "      <th>sepal length (cm)</th>\n",
       "      <th>sepal width (cm)</th>\n",
       "      <th>petal length (cm)</th>\n",
       "      <th>petal width (cm)</th>\n",
       "      <th>sepal/petal length(ratio)</th>\n",
       "      <th>sepal/petal width(ratio)</th>\n",
       "    </tr>\n",
       "  </thead>\n",
       "  <tbody>\n",
       "    <tr>\n",
       "      <th>0</th>\n",
       "      <td>0.222222</td>\n",
       "      <td>0.625</td>\n",
       "      <td>0.067797</td>\n",
       "      <td>0.041667</td>\n",
       "      <td>0.685337</td>\n",
       "      <td>0.410578</td>\n",
       "    </tr>\n",
       "  </tbody>\n",
       "</table>\n",
       "</div>"
      ],
      "text/plain": [
       "   sepal length (cm)  sepal width (cm)  petal length (cm)  petal width (cm)  \\\n",
       "0           0.222222             0.625           0.067797          0.041667   \n",
       "\n",
       "   sepal/petal length(ratio)  sepal/petal width(ratio)  \n",
       "0                   0.685337                  0.410578  "
      ]
     },
     "execution_count": 62,
     "metadata": {},
     "output_type": "execute_result"
    }
   ],
   "source": [
    "df_iris.head(1)"
   ]
  },
  {
   "cell_type": "code",
   "execution_count": 73,
   "metadata": {
    "ExecuteTime": {
     "end_time": "2021-08-08T07:45:07.524201Z",
     "start_time": "2021-08-08T07:45:07.513894Z"
    }
   },
   "outputs": [
    {
     "data": {
      "text/plain": [
       "array([0])"
      ]
     },
     "execution_count": 73,
     "metadata": {},
     "output_type": "execute_result"
    }
   ],
   "source": [
    "model.predict([[5.1, 3.6, 1.3, 0.1, 3.62, 16.8]])"
   ]
  },
  {
   "cell_type": "code",
   "execution_count": null,
   "metadata": {},
   "outputs": [],
   "source": []
  }
 ],
 "metadata": {
  "hide_input": false,
  "kernelspec": {
   "display_name": "Python 3",
   "language": "python",
   "name": "python3"
  },
  "language_info": {
   "codemirror_mode": {
    "name": "ipython",
    "version": 3
   },
   "file_extension": ".py",
   "mimetype": "text/x-python",
   "name": "python",
   "nbconvert_exporter": "python",
   "pygments_lexer": "ipython3",
   "version": "3.7.10"
  },
  "toc": {
   "base_numbering": "1",
   "nav_menu": {},
   "number_sections": true,
   "sideBar": true,
   "skip_h1_title": true,
   "title_cell": "Table of Contents",
   "title_sidebar": "Contents",
   "toc_cell": true,
   "toc_position": {},
   "toc_section_display": true,
   "toc_window_display": true
  }
 },
 "nbformat": 4,
 "nbformat_minor": 4
}
