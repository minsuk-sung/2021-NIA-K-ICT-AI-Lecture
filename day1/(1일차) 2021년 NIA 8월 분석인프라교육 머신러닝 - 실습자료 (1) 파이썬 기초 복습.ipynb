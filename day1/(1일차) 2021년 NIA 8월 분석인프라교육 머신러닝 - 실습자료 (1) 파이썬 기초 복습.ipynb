{
 "cells": [
  {
   "cell_type": "markdown",
   "metadata": {},
   "source": [
    "<img src=\"../img/K-ICT_logo.jpg\" width=50%>\n",
    "<br>\n",
    "<div align='center'><font size=5><b>분석 인프라 활용 AI 교육</b></font></div>\n",
    "<br>\n",
    "<div align='center'><font size=3>인공지능 빅데이터 전문가 심화과정</font></div>\n",
    "<br>\n",
    "<div align='right'>강사 <a href=\"https://open.kakao.com/me/minsuksung\">성민석</a></div>\n",
    "<div align='right'>minsuksung@korea.ac.kr</div>"
   ]
  },
  {
   "cell_type": "markdown",
   "metadata": {},
   "source": [
    "![](https://w.namu.la/s/bf534326c82256e07ebcf3a115ed38f5e86a8fb61ea5db06aac1c5195b72e17db21c18b364865e765c22de9795a736590d630966d7d887a17a023fc6ce4bc7b39c6d5d9cc5b8d9b55be99d084021db778442ed0d4b754ff492d8d9550d7733fab0dc9c165723985011c39c01a141ab12)\n",
    "\n",
    "# 파이썬 (Python) 기초 문법"
   ]
  },
  {
   "cell_type": "markdown",
   "metadata": {
    "toc": true
   },
   "source": [
    "<h1>Table of Contents<span class=\"tocSkip\"></span></h1>\n",
    "<div class=\"toc\"><ul class=\"toc-item\"><li><span><a href=\"#파이썬-자료형\" data-toc-modified-id=\"파이썬-자료형-1\"><span class=\"toc-item-num\">1&nbsp;&nbsp;</span>파이썬 자료형</a></span><ul class=\"toc-item\"><li><span><a href=\"#리스트\" data-toc-modified-id=\"리스트-1.1\"><span class=\"toc-item-num\">1.1&nbsp;&nbsp;</span>리스트</a></span><ul class=\"toc-item\"><li><span><a href=\"#인덱싱\" data-toc-modified-id=\"인덱싱-1.1.1\"><span class=\"toc-item-num\">1.1.1&nbsp;&nbsp;</span>인덱싱</a></span></li><li><span><a href=\"#슬라이싱\" data-toc-modified-id=\"슬라이싱-1.1.2\"><span class=\"toc-item-num\">1.1.2&nbsp;&nbsp;</span>슬라이싱</a></span></li><li><span><a href=\"#추가\" data-toc-modified-id=\"추가-1.1.3\"><span class=\"toc-item-num\">1.1.3&nbsp;&nbsp;</span>추가</a></span></li><li><span><a href=\"#확장\" data-toc-modified-id=\"확장-1.1.4\"><span class=\"toc-item-num\">1.1.4&nbsp;&nbsp;</span>확장</a></span></li><li><span><a href=\"#정렬\" data-toc-modified-id=\"정렬-1.1.5\"><span class=\"toc-item-num\">1.1.5&nbsp;&nbsp;</span>정렬</a></span></li></ul></li><li><span><a href=\"#튜플\" data-toc-modified-id=\"튜플-1.2\"><span class=\"toc-item-num\">1.2&nbsp;&nbsp;</span>튜플</a></span><ul class=\"toc-item\"><li><span><a href=\"#튜플과-리스트의-차이점\" data-toc-modified-id=\"튜플과-리스트의-차이점-1.2.1\"><span class=\"toc-item-num\">1.2.1&nbsp;&nbsp;</span>튜플과 리스트의 차이점</a></span></li><li><span><a href=\"#인덱싱\" data-toc-modified-id=\"인덱싱-1.2.2\"><span class=\"toc-item-num\">1.2.2&nbsp;&nbsp;</span>인덱싱</a></span></li><li><span><a href=\"#슬라이싱\" data-toc-modified-id=\"슬라이싱-1.2.3\"><span class=\"toc-item-num\">1.2.3&nbsp;&nbsp;</span>슬라이싱</a></span></li></ul></li><li><span><a href=\"#딕셔너리\" data-toc-modified-id=\"딕셔너리-1.3\"><span class=\"toc-item-num\">1.3&nbsp;&nbsp;</span>딕셔너리</a></span></li><li><span><a href=\"#집합\" data-toc-modified-id=\"집합-1.4\"><span class=\"toc-item-num\">1.4&nbsp;&nbsp;</span>집합</a></span></li></ul></li><li><span><a href=\"#제어문\" data-toc-modified-id=\"제어문-2\"><span class=\"toc-item-num\">2&nbsp;&nbsp;</span>제어문</a></span><ul class=\"toc-item\"><li><span><a href=\"#if문\" data-toc-modified-id=\"if문-2.1\"><span class=\"toc-item-num\">2.1&nbsp;&nbsp;</span>if문</a></span></li><li><span><a href=\"#if-else문\" data-toc-modified-id=\"if-else문-2.2\"><span class=\"toc-item-num\">2.2&nbsp;&nbsp;</span>if-else문</a></span></li></ul></li><li><span><a href=\"#반복문\" data-toc-modified-id=\"반복문-3\"><span class=\"toc-item-num\">3&nbsp;&nbsp;</span>반복문</a></span><ul class=\"toc-item\"><li><span><a href=\"#while문\" data-toc-modified-id=\"while문-3.1\"><span class=\"toc-item-num\">3.1&nbsp;&nbsp;</span>while문</a></span></li><li><span><a href=\"#for문\" data-toc-modified-id=\"for문-3.2\"><span class=\"toc-item-num\">3.2&nbsp;&nbsp;</span>for문</a></span></li></ul></li><li><span><a href=\"#함수\" data-toc-modified-id=\"함수-4\"><span class=\"toc-item-num\">4&nbsp;&nbsp;</span>함수</a></span></li><li><span><a href=\"#파이썬-Built-in-함수\" data-toc-modified-id=\"파이썬-Built-in-함수-5\"><span class=\"toc-item-num\">5&nbsp;&nbsp;</span>파이썬 Built-in 함수</a></span></li><li><span><a href=\"#클래스\" data-toc-modified-id=\"클래스-6\"><span class=\"toc-item-num\">6&nbsp;&nbsp;</span>클래스</a></span></li><li><span><a href=\"#입력과-출력\" data-toc-modified-id=\"입력과-출력-7\"><span class=\"toc-item-num\">7&nbsp;&nbsp;</span>입력과 출력</a></span><ul class=\"toc-item\"><li><span><a href=\"#출력\" data-toc-modified-id=\"출력-7.1\"><span class=\"toc-item-num\">7.1&nbsp;&nbsp;</span>출력</a></span></li><li><span><a href=\"#입력\" data-toc-modified-id=\"입력-7.2\"><span class=\"toc-item-num\">7.2&nbsp;&nbsp;</span>입력</a></span></li></ul></li></ul></div>"
   ]
  },
  {
   "cell_type": "markdown",
   "metadata": {},
   "source": [
    "<div align='center'><font size=3 color='red'><b>주의</b>: </font><font size=3><b>구글 콜랩</b>이나 <b>아나콘다</b>를 통해서 주피터 노트북을 실행해주세요!</font></div>"
   ]
  },
  {
   "cell_type": "markdown",
   "metadata": {},
   "source": [
    "## 파이썬 자료형\n",
    "<hr style=\"height:3px;border:none;color:#5F71F7;background-color:#203E60;\" />\n",
    "\n",
    "어떤 프로그래밍 언어든 \"그 언어의 자료형을 알고 이해할 수 있다면 이미 그 언어의 절반을 터득한 것이나 다름없다\"는 말이 있다.\n",
    "\n",
    "자료형이란 프로그래밍을 할 때 쓰이는 숫자, 문자열 등 자료 형태로 사용하는 모든 것을 뜻한다. 프로그램의 기본이자 핵심 단위가 바로 자료형이다. 계산 프로그램을 만들려면 어떤 것을 계산할지부터 알아야 하고, 데이터베이스 프로그램을 만들려면 어떤 자료를 저장할지부터 알아야 하는 것처럼 기본 중의 기본이다. 따라서 자료형을 충분히 이해하지 않고 프로그래밍을 시작하려는 것은 기초 공사가 마무리되지 않은 상태에서 빌딩을 세우는 것과 같다.\n",
    "\n",
    "자료형에는 어떤 것이 있는지 이 장에서 하나씩 자세하게 알아보자."
   ]
  },
  {
   "cell_type": "markdown",
   "metadata": {},
   "source": [
    "### 리스트\n",
    "지금까지 우리는 숫자와 문자열에 대해서 알아보았다. 하지만 숫자와 문자열만으로 프로그래밍을 하기엔 부족한 점이 많다. 예를 들어 1부터 10까지의 숫자 중 홀수 모음인 1, 3, 5, 7, 9의 집합을 생각해 보자. 이런 숫자 모음을 숫자나 문자열로 표현하기는 쉽지 않다. 파이썬에는 이러한 불편함을 해소할 수 있는 자료형이 존재한다. 그것이 바로 여기에서 공부할 리스트(List)이다.\n",
    "\n"
   ]
  },
  {
   "cell_type": "code",
   "execution_count": 4,
   "metadata": {
    "ExecuteTime": {
     "end_time": "2021-08-08T07:01:55.264691Z",
     "start_time": "2021-08-08T07:01:55.258513Z"
    }
   },
   "outputs": [
    {
     "data": {
      "text/plain": [
       "[]"
      ]
     },
     "execution_count": 4,
     "metadata": {},
     "output_type": "execute_result"
    }
   ],
   "source": [
    "list() # 빈 리스트 생성"
   ]
  },
  {
   "cell_type": "code",
   "execution_count": 5,
   "metadata": {
    "ExecuteTime": {
     "end_time": "2021-08-08T07:01:55.446449Z",
     "start_time": "2021-08-08T07:01:55.439842Z"
    }
   },
   "outputs": [
    {
     "data": {
      "text/plain": [
       "[1, 2, 3]"
      ]
     },
     "execution_count": 5,
     "metadata": {},
     "output_type": "execute_result"
    }
   ],
   "source": [
    "[1, 2, 3]  # 콤마(,)로 구분"
   ]
  },
  {
   "cell_type": "code",
   "execution_count": 6,
   "metadata": {
    "ExecuteTime": {
     "end_time": "2021-08-08T07:01:55.599882Z",
     "start_time": "2021-08-08T07:01:55.593016Z"
    }
   },
   "outputs": [
    {
     "data": {
      "text/plain": [
       "[100, 3.14, 'abc', True]"
      ]
     },
     "execution_count": 6,
     "metadata": {},
     "output_type": "execute_result"
    }
   ],
   "source": [
    "[100,3.14,'abc',True]  # Type이 다 같을 필요가 없음! 즉, 어떤 type이든 상관없음"
   ]
  },
  {
   "cell_type": "code",
   "execution_count": 7,
   "metadata": {
    "ExecuteTime": {
     "end_time": "2021-08-08T07:01:56.074484Z",
     "start_time": "2021-08-08T07:01:56.070248Z"
    }
   },
   "outputs": [],
   "source": [
    "x = [10 ,'a', 1.234, -10, 'bc']"
   ]
  },
  {
   "cell_type": "markdown",
   "metadata": {},
   "source": [
    "#### 인덱싱"
   ]
  },
  {
   "cell_type": "code",
   "execution_count": 8,
   "metadata": {
    "ExecuteTime": {
     "end_time": "2021-08-08T07:01:56.433806Z",
     "start_time": "2021-08-08T07:01:56.427507Z"
    }
   },
   "outputs": [
    {
     "data": {
      "text/plain": [
       "10"
      ]
     },
     "execution_count": 8,
     "metadata": {},
     "output_type": "execute_result"
    }
   ],
   "source": [
    "x[0]  # 항상 0부터"
   ]
  },
  {
   "cell_type": "code",
   "execution_count": 9,
   "metadata": {
    "ExecuteTime": {
     "end_time": "2021-08-08T07:01:56.587507Z",
     "start_time": "2021-08-08T07:01:56.581200Z"
    }
   },
   "outputs": [
    {
     "data": {
      "text/plain": [
       "'bc'"
      ]
     },
     "execution_count": 9,
     "metadata": {},
     "output_type": "execute_result"
    }
   ],
   "source": [
    "x[-1]"
   ]
  },
  {
   "cell_type": "markdown",
   "metadata": {},
   "source": [
    "#### 슬라이싱"
   ]
  },
  {
   "cell_type": "code",
   "execution_count": 10,
   "metadata": {
    "ExecuteTime": {
     "end_time": "2021-08-08T07:01:56.955007Z",
     "start_time": "2021-08-08T07:01:56.948583Z"
    }
   },
   "outputs": [
    {
     "data": {
      "text/plain": [
       "[10, 'a', 1.234]"
      ]
     },
     "execution_count": 10,
     "metadata": {},
     "output_type": "execute_result"
    }
   ],
   "source": [
    "x[0:3]"
   ]
  },
  {
   "cell_type": "code",
   "execution_count": 11,
   "metadata": {
    "ExecuteTime": {
     "end_time": "2021-08-08T07:01:57.137974Z",
     "start_time": "2021-08-08T07:01:57.131090Z"
    }
   },
   "outputs": [
    {
     "data": {
      "text/plain": [
       "[1.234, -10]"
      ]
     },
     "execution_count": 11,
     "metadata": {},
     "output_type": "execute_result"
    }
   ],
   "source": [
    "x[-3:-1]"
   ]
  },
  {
   "cell_type": "markdown",
   "metadata": {},
   "source": [
    "#### 추가"
   ]
  },
  {
   "cell_type": "code",
   "execution_count": 12,
   "metadata": {
    "ExecuteTime": {
     "end_time": "2021-08-08T07:01:57.514891Z",
     "start_time": "2021-08-08T07:01:57.509032Z"
    }
   },
   "outputs": [
    {
     "data": {
      "text/plain": [
       "[10, 'a', 1.234, -10, 'bc']"
      ]
     },
     "execution_count": 12,
     "metadata": {},
     "output_type": "execute_result"
    }
   ],
   "source": [
    "x"
   ]
  },
  {
   "cell_type": "code",
   "execution_count": 13,
   "metadata": {
    "ExecuteTime": {
     "end_time": "2021-08-08T07:01:57.704194Z",
     "start_time": "2021-08-08T07:01:57.700308Z"
    }
   },
   "outputs": [],
   "source": [
    "x.append('hi')"
   ]
  },
  {
   "cell_type": "code",
   "execution_count": 14,
   "metadata": {
    "ExecuteTime": {
     "end_time": "2021-08-08T07:01:57.884254Z",
     "start_time": "2021-08-08T07:01:57.878494Z"
    }
   },
   "outputs": [
    {
     "data": {
      "text/plain": [
       "[10, 'a', 1.234, -10, 'bc', 'hi']"
      ]
     },
     "execution_count": 14,
     "metadata": {},
     "output_type": "execute_result"
    }
   ],
   "source": [
    "x"
   ]
  },
  {
   "cell_type": "code",
   "execution_count": 15,
   "metadata": {
    "ExecuteTime": {
     "end_time": "2021-08-08T07:01:58.066312Z",
     "start_time": "2021-08-08T07:01:58.060309Z"
    }
   },
   "outputs": [
    {
     "data": {
      "text/plain": [
       "[10, 'a', 1.234, -10, 'bc', 'hi', 'bye']"
      ]
     },
     "execution_count": 15,
     "metadata": {},
     "output_type": "execute_result"
    }
   ],
   "source": [
    "x + ['bye']"
   ]
  },
  {
   "cell_type": "markdown",
   "metadata": {},
   "source": [
    "#### 확장"
   ]
  },
  {
   "cell_type": "code",
   "execution_count": 16,
   "metadata": {
    "ExecuteTime": {
     "end_time": "2021-08-08T07:01:58.442883Z",
     "start_time": "2021-08-08T07:01:58.436876Z"
    }
   },
   "outputs": [
    {
     "data": {
      "text/plain": [
       "[10, 'a', 1.234, -10, 'bc', 'hi']"
      ]
     },
     "execution_count": 16,
     "metadata": {},
     "output_type": "execute_result"
    }
   ],
   "source": [
    "x"
   ]
  },
  {
   "cell_type": "code",
   "execution_count": 17,
   "metadata": {
    "ExecuteTime": {
     "end_time": "2021-08-08T07:01:58.623193Z",
     "start_time": "2021-08-08T07:01:58.616658Z"
    }
   },
   "outputs": [
    {
     "data": {
      "text/plain": [
       "[10, 'a', 1.234, -10, 'bc', 'hi', ['kict', 'nia']]"
      ]
     },
     "execution_count": 17,
     "metadata": {},
     "output_type": "execute_result"
    }
   ],
   "source": [
    "x.append(['kict', 'nia'])\n",
    "x"
   ]
  },
  {
   "cell_type": "code",
   "execution_count": 18,
   "metadata": {
    "ExecuteTime": {
     "end_time": "2021-08-08T07:01:58.806366Z",
     "start_time": "2021-08-08T07:01:58.800089Z"
    }
   },
   "outputs": [
    {
     "data": {
      "text/plain": [
       "[10, 'a', 1.234, -10, 'bc', 'hi', ['kict', 'nia'], 'python', 'basic']"
      ]
     },
     "execution_count": 18,
     "metadata": {},
     "output_type": "execute_result"
    }
   ],
   "source": [
    "x.extend(['python', 'basic'])\n",
    "x"
   ]
  },
  {
   "cell_type": "markdown",
   "metadata": {},
   "source": [
    "#### 정렬"
   ]
  },
  {
   "cell_type": "code",
   "execution_count": 19,
   "metadata": {
    "ExecuteTime": {
     "end_time": "2021-08-08T07:01:59.171853Z",
     "start_time": "2021-08-08T07:01:59.167829Z"
    }
   },
   "outputs": [],
   "source": [
    "x = [5, 4, 3, 2, 1, 0]"
   ]
  },
  {
   "cell_type": "code",
   "execution_count": 20,
   "metadata": {
    "ExecuteTime": {
     "end_time": "2021-08-08T07:01:59.554444Z",
     "start_time": "2021-08-08T07:01:59.548214Z"
    }
   },
   "outputs": [
    {
     "data": {
      "text/plain": [
       "[0, 1, 2, 3, 4, 5]"
      ]
     },
     "execution_count": 20,
     "metadata": {},
     "output_type": "execute_result"
    }
   ],
   "source": [
    "x.sort()\n",
    "x"
   ]
  },
  {
   "cell_type": "markdown",
   "metadata": {},
   "source": [
    "### 튜플\n",
    "튜플(tuple)은 몇 가지 점을 제외하곤 리스트와 거의 비슷하며 리스트와 다른 점은 다음과 같다.\n",
    "\n",
    "리스트는 [ ]으로 둘러싸지만 튜플은 ( )으로 둘러싼다.\n",
    "리스트는 그 값의 생성, 삭제, 수정이 가능하지만 튜플은 그 값을 바꿀 수 없다."
   ]
  },
  {
   "cell_type": "code",
   "execution_count": 21,
   "metadata": {
    "ExecuteTime": {
     "end_time": "2021-08-08T07:02:00.013015Z",
     "start_time": "2021-08-08T07:02:00.007201Z"
    }
   },
   "outputs": [
    {
     "data": {
      "text/plain": [
       "()"
      ]
     },
     "execution_count": 21,
     "metadata": {},
     "output_type": "execute_result"
    }
   ],
   "source": [
    "tuple()  # 빈 튜플 생성"
   ]
  },
  {
   "cell_type": "markdown",
   "metadata": {},
   "source": [
    "#### 튜플과 리스트의 차이점"
   ]
  },
  {
   "cell_type": "code",
   "execution_count": 22,
   "metadata": {
    "ExecuteTime": {
     "end_time": "2021-08-08T07:02:00.404796Z",
     "start_time": "2021-08-08T07:02:00.397814Z"
    }
   },
   "outputs": [
    {
     "data": {
      "text/plain": [
       "('Sun', 'Mon', 'Tue', 'Wed', 'Thur', 'Fri', 'Sat')"
      ]
     },
     "execution_count": 22,
     "metadata": {},
     "output_type": "execute_result"
    }
   ],
   "source": [
    "x = ('Sun','Mon','Tue','Wed','Thur','Fri','Sat')\n",
    "x"
   ]
  },
  {
   "cell_type": "markdown",
   "metadata": {},
   "source": [
    "```python\n",
    "x[0] = 'hi'  # 수정 불가\n",
    "\n",
    "---------------------------------------------------------------------------\n",
    "TypeError                                 Traceback (most recent call last)\n",
    "<ipython-input-21-2c6e17865e84> in <module>\n",
    "----> 1 x[0] = 'hi'\n",
    "\n",
    "TypeError: 'tuple' object does not support item assignment\n",
    "```"
   ]
  },
  {
   "cell_type": "markdown",
   "metadata": {},
   "source": [
    "#### 인덱싱"
   ]
  },
  {
   "cell_type": "code",
   "execution_count": 23,
   "metadata": {
    "ExecuteTime": {
     "end_time": "2021-08-08T07:02:01.378864Z",
     "start_time": "2021-08-08T07:02:01.372781Z"
    }
   },
   "outputs": [
    {
     "data": {
      "text/plain": [
       "'Sun'"
      ]
     },
     "execution_count": 23,
     "metadata": {},
     "output_type": "execute_result"
    }
   ],
   "source": [
    "x[0]  # 리스트와 동일하게 인덱싱"
   ]
  },
  {
   "cell_type": "markdown",
   "metadata": {},
   "source": [
    "#### 슬라이싱"
   ]
  },
  {
   "cell_type": "code",
   "execution_count": 24,
   "metadata": {
    "ExecuteTime": {
     "end_time": "2021-08-08T07:02:01.744118Z",
     "start_time": "2021-08-08T07:02:01.739264Z"
    }
   },
   "outputs": [
    {
     "data": {
      "text/plain": [
       "('Sun', 'Mon', 'Tue')"
      ]
     },
     "execution_count": 24,
     "metadata": {},
     "output_type": "execute_result"
    }
   ],
   "source": [
    "x[0:3]"
   ]
  },
  {
   "cell_type": "markdown",
   "metadata": {},
   "source": [
    "### 딕셔너리\n",
    "사람은 누구든지 \"이름\" = \"홍길동\", \"생일\" = \"몇 월 며칠\" 등으로 구별할 수 있다. 파이썬은 영리하게도 이러한 대응 관계를 나타낼 수 있는 자료형을 가지고 있다. 요즘 사용하는 대부분의 언어도 이러한 대응 관계를 나타내는 자료형을 갖고 있는데, 이를 연관 배열(Associative array) 또는 해시(Hash)라고 한다.\n",
    "\n",
    "파이썬에서는 이러한 자료형을 딕셔너리(Dictionary)라고 하는데, 단어 그대로 해석하면 사전이라는 뜻이다. 즉 \"people\"이라는 단어에 \"사람\", \"baseball\"이라는 단어에 \"야구\"라는 뜻이 부합되듯이 딕셔너리는 Key와 Value를 한 쌍으로 갖는 자료형이다. 예컨대 Key가 \"baseball\"이라면 Value는 \"야구\"가 될 것이다.\n",
    "\n",
    "딕셔너리는 리스트나 튜플처럼 순차적으로(sequential) 해당 요솟값을 구하지 않고 Key를 통해 Value를 얻는다. 이것이 바로 딕셔너리의 가장 큰 특징이다. baseball이라는 단어의 뜻을 찾기 위해 사전의 내용을 순차적으로 모두 검색하는 것이 아니라 baseball이라는 단어가 있는 곳만 펼쳐 보는 것이다.\n",
    "\n",
    "\n",
    "\n",
    "- key, value로 되어 있음!\n",
    "- key값은 유일해야하지만, value값은 유일할 필요없음!"
   ]
  },
  {
   "cell_type": "code",
   "execution_count": 25,
   "metadata": {
    "ExecuteTime": {
     "end_time": "2021-08-08T07:02:02.110207Z",
     "start_time": "2021-08-08T07:02:02.104504Z"
    }
   },
   "outputs": [
    {
     "data": {
      "text/plain": [
       "{}"
      ]
     },
     "execution_count": 25,
     "metadata": {},
     "output_type": "execute_result"
    }
   ],
   "source": [
    "dict()"
   ]
  },
  {
   "cell_type": "code",
   "execution_count": 26,
   "metadata": {
    "ExecuteTime": {
     "end_time": "2021-08-08T07:02:02.295435Z",
     "start_time": "2021-08-08T07:02:02.291450Z"
    }
   },
   "outputs": [],
   "source": [
    "person = {'이름': '홍길동',\n",
    "          '출생년도': 2000,\n",
    "          '출생지': '서울'\n",
    "          }"
   ]
  },
  {
   "cell_type": "code",
   "execution_count": 27,
   "metadata": {
    "ExecuteTime": {
     "end_time": "2021-08-08T07:02:02.489397Z",
     "start_time": "2021-08-08T07:02:02.483943Z"
    }
   },
   "outputs": [
    {
     "data": {
      "text/plain": [
       "'홍길동'"
      ]
     },
     "execution_count": 27,
     "metadata": {},
     "output_type": "execute_result"
    }
   ],
   "source": [
    "person['이름']"
   ]
  },
  {
   "cell_type": "code",
   "execution_count": 28,
   "metadata": {
    "ExecuteTime": {
     "end_time": "2021-08-08T07:02:02.664199Z",
     "start_time": "2021-08-08T07:02:02.658677Z"
    }
   },
   "outputs": [
    {
     "data": {
      "text/plain": [
       "dict_keys(['이름', '출생년도', '출생지'])"
      ]
     },
     "execution_count": 28,
     "metadata": {},
     "output_type": "execute_result"
    }
   ],
   "source": [
    "person.keys()"
   ]
  },
  {
   "cell_type": "code",
   "execution_count": 29,
   "metadata": {
    "ExecuteTime": {
     "end_time": "2021-08-08T07:02:02.849399Z",
     "start_time": "2021-08-08T07:02:02.843579Z"
    }
   },
   "outputs": [
    {
     "data": {
      "text/plain": [
       "dict_values(['홍길동', 2000, '서울'])"
      ]
     },
     "execution_count": 29,
     "metadata": {},
     "output_type": "execute_result"
    }
   ],
   "source": [
    "person.values()"
   ]
  },
  {
   "cell_type": "code",
   "execution_count": 30,
   "metadata": {
    "ExecuteTime": {
     "end_time": "2021-08-08T07:02:03.023383Z",
     "start_time": "2021-08-08T07:02:03.017571Z"
    }
   },
   "outputs": [
    {
     "data": {
      "text/plain": [
       "dict_items([('이름', '홍길동'), ('출생년도', 2000), ('출생지', '서울')])"
      ]
     },
     "execution_count": 30,
     "metadata": {},
     "output_type": "execute_result"
    }
   ],
   "source": [
    "person.items()"
   ]
  },
  {
   "cell_type": "markdown",
   "metadata": {},
   "source": [
    "### 집합\n",
    "리스트나 튜플은 순서가 있기(ordered) 때문에 인덱싱을 통해 자료형의 값을 얻을 수 있지만 set 자료형은 순서가 없기(unordered) 때문에 인덱싱으로 값을 얻을 수 없다. 이는 마치 02-5에서 살펴본 딕셔너리와 비슷하다. 딕셔너리 역시 순서가 없는 자료형이라 인덱싱을 지원하지 않는다.\n",
    "\n",
    "- 순서가 없어서 indexing이 불가능\n",
    "- 중복된 원소들을 제거함"
   ]
  },
  {
   "cell_type": "code",
   "execution_count": 31,
   "metadata": {
    "ExecuteTime": {
     "end_time": "2021-08-08T07:02:03.416105Z",
     "start_time": "2021-08-08T07:02:03.410358Z"
    }
   },
   "outputs": [
    {
     "data": {
      "text/plain": [
       "set()"
      ]
     },
     "execution_count": 31,
     "metadata": {},
     "output_type": "execute_result"
    }
   ],
   "source": [
    "set()"
   ]
  },
  {
   "cell_type": "code",
   "execution_count": 32,
   "metadata": {
    "ExecuteTime": {
     "end_time": "2021-08-08T07:02:04.162616Z",
     "start_time": "2021-08-08T07:02:04.155617Z"
    }
   },
   "outputs": [
    {
     "data": {
      "text/plain": [
       "{1, 2, 3}"
      ]
     },
     "execution_count": 32,
     "metadata": {},
     "output_type": "execute_result"
    }
   ],
   "source": [
    "{1,1,1,2,2,2,2,2,2,2,3,3,3}"
   ]
  },
  {
   "cell_type": "markdown",
   "metadata": {},
   "source": [
    "## 제어문\n",
    "<hr style=\"height:3px;border:none;color:#5F71F7;background-color:#203E60;\" />\n",
    "\n",
    "이번 장에서는 if, while, for 등의 제어문에 대해서 배우고자 한다. 제어문을 배우기 전에 집을 짓는 일을 생각해 보자.\n",
    "\n",
    "집을 지을 때 나무, 돌, 시멘트 등은 재료가 되고, 철근은 집의 뼈대가 된다. 프로그램을 만드는 것도 집 짓기와 매우 비슷한 면이 있다. 나무, 돌, 시멘트와 같은 재료는 자료형이 되고, 집의 뼈대를 이루는 철근은 이번 장에서 알아볼 제어문에 해당한다. 이번 장에서는 자료형을 바탕으로 제어문을 이용하여 프로그램의 구조를 만들어 보자."
   ]
  },
  {
   "cell_type": "markdown",
   "metadata": {},
   "source": [
    "### if문\n",
    "우리 모두에게 일어날 수 있는 상황 중 하나이다. 프로그래밍도 사람이 하는 것이므로 위 문장처럼 주어진 조건을 판단한 후 그 상황에 맞게 처리해야 할 경우가 생긴다. 이렇듯 프로그래밍에서 조건을 판단하여 해당 조건에 맞는 상황을 수행하는 데 쓰는 것이 바로 if문이다."
   ]
  },
  {
   "cell_type": "code",
   "execution_count": 33,
   "metadata": {
    "ExecuteTime": {
     "end_time": "2021-08-08T07:02:05.219281Z",
     "start_time": "2021-08-08T07:02:05.215586Z"
    }
   },
   "outputs": [],
   "source": [
    "a = 1"
   ]
  },
  {
   "cell_type": "code",
   "execution_count": 34,
   "metadata": {
    "ExecuteTime": {
     "end_time": "2021-08-08T07:02:05.675705Z",
     "start_time": "2021-08-08T07:02:05.670740Z"
    }
   },
   "outputs": [
    {
     "name": "stdout",
     "output_type": "stream",
     "text": [
      "hello world\n"
     ]
    }
   ],
   "source": [
    "if a == 1:\n",
    "    print('hello world')"
   ]
  },
  {
   "cell_type": "markdown",
   "metadata": {},
   "source": [
    "### if-else문"
   ]
  },
  {
   "cell_type": "code",
   "execution_count": 35,
   "metadata": {
    "ExecuteTime": {
     "end_time": "2021-08-08T07:02:06.204053Z",
     "start_time": "2021-08-08T07:02:06.200815Z"
    }
   },
   "outputs": [
    {
     "name": "stdout",
     "output_type": "stream",
     "text": [
      "goodbye world\n"
     ]
    }
   ],
   "source": [
    "a = 0\n",
    "if a == 1:\n",
    "    print('hello world')\n",
    "else:\n",
    "    print('goodbye world')"
   ]
  },
  {
   "cell_type": "markdown",
   "metadata": {},
   "source": [
    "<div class=\"alert alert-success\">\n",
    "    <b>예제(Exercise)</b>:\n",
    "    <ul>\n",
    "        <li>숫자를 입력받고 입력 받은 숫자가 홀수이면 1, 짝수이면 0을 출력받도록 하라</li>\n",
    "    </ul>\n",
    "</div>"
   ]
  },
  {
   "cell_type": "code",
   "execution_count": 37,
   "metadata": {
    "ExecuteTime": {
     "end_time": "2021-08-08T07:02:10.697709Z",
     "start_time": "2021-08-08T07:02:08.861765Z"
    }
   },
   "outputs": [
    {
     "name": "stdout",
     "output_type": "stream",
     "text": [
      "숫자: 6\n",
      "0\n"
     ]
    }
   ],
   "source": [
    "num = int(input('숫자: '))\n",
    "\n",
    "if num % 2 == 0:\n",
    "    print(0)\n",
    "else:\n",
    "    print(1)"
   ]
  },
  {
   "cell_type": "markdown",
   "metadata": {},
   "source": [
    "## 반복문\n",
    "<hr style=\"height:3px;border:none;color:#5F71F7;background-color:#203E60;\" />"
   ]
  },
  {
   "cell_type": "markdown",
   "metadata": {},
   "source": [
    "### while문\n",
    "반복해서 문장을 수행해야 할 경우 while문을 사용한다. 그래서 while문을 반복문이라고도 부른다."
   ]
  },
  {
   "cell_type": "code",
   "execution_count": 39,
   "metadata": {
    "ExecuteTime": {
     "end_time": "2021-08-08T07:02:12.264713Z",
     "start_time": "2021-08-08T07:02:12.259802Z"
    }
   },
   "outputs": [
    {
     "name": "stdout",
     "output_type": "stream",
     "text": [
      "0\n",
      "1\n",
      "2\n",
      "3\n",
      "4\n",
      "5\n",
      "6\n",
      "7\n",
      "8\n",
      "9\n"
     ]
    }
   ],
   "source": [
    "i = 0\n",
    "while i < 10:\n",
    "    print(i)\n",
    "    i += 1"
   ]
  },
  {
   "cell_type": "markdown",
   "metadata": {},
   "source": [
    "### for문\n",
    "파이썬의 직관적인 특징을 가장 잘 대변해 주는 것이 바로 이 for문이다. while문과 비슷한 반복문인 for문은 매우 유용하고 문장 구조가 한눈에 쏙 들어온다는 장점이 있다. for문을 잘 사용하면 프로그래밍이 즐거워질 것이다."
   ]
  },
  {
   "cell_type": "code",
   "execution_count": 38,
   "metadata": {
    "ExecuteTime": {
     "end_time": "2021-08-08T07:02:11.735270Z",
     "start_time": "2021-08-08T07:02:11.730364Z"
    }
   },
   "outputs": [
    {
     "name": "stdout",
     "output_type": "stream",
     "text": [
      "0\n",
      "1\n",
      "2\n",
      "3\n",
      "4\n",
      "5\n",
      "6\n",
      "7\n",
      "8\n",
      "9\n"
     ]
    }
   ],
   "source": [
    "for i in range(0,10):\n",
    "    print(i)"
   ]
  },
  {
   "cell_type": "markdown",
   "metadata": {},
   "source": [
    "<div class=\"alert alert-success\">\n",
    "    <b>예제(Exercise)</b>:\n",
    "    <ul>\n",
    "        <li>아래와 같은 모양을 출력하시오.</li>\n",
    "        <li>출력 예시</li>\n",
    "        <code>\n",
    "*\n",
    "**\n",
    "***\n",
    "****\n",
    "*****</code>\n",
    "    </ul>\n",
    "</div>"
   ]
  },
  {
   "cell_type": "code",
   "execution_count": 40,
   "metadata": {
    "ExecuteTime": {
     "end_time": "2021-08-08T07:02:12.965312Z",
     "start_time": "2021-08-08T07:02:12.959620Z"
    }
   },
   "outputs": [
    {
     "name": "stdout",
     "output_type": "stream",
     "text": [
      "*\n",
      "**\n",
      "***\n",
      "****\n",
      "*****\n"
     ]
    }
   ],
   "source": [
    "for i in range(1,6):\n",
    "    print('*'*i)"
   ]
  },
  {
   "cell_type": "markdown",
   "metadata": {},
   "source": [
    "<div class=\"alert alert-success\">\n",
    "    <b>예제(Exercise)</b>:\n",
    "    <ul>\n",
    "        <li>아래와 같은 모양을 출력하시오.</li>\n",
    "        <li>출력 예시</li>\n",
    "        <code>\n",
    "    *\n",
    "   **\n",
    "  ***\n",
    " ****\n",
    "*****</code>\n",
    "    </ul>\n",
    "</div>"
   ]
  },
  {
   "cell_type": "code",
   "execution_count": 41,
   "metadata": {
    "ExecuteTime": {
     "end_time": "2021-08-08T07:02:13.588555Z",
     "start_time": "2021-08-08T07:02:13.582521Z"
    }
   },
   "outputs": [
    {
     "name": "stdout",
     "output_type": "stream",
     "text": [
      "    *\n",
      "   **\n",
      "  ***\n",
      " ****\n",
      "*****\n"
     ]
    }
   ],
   "source": [
    "for i in range(1,6):\n",
    "    print(' '*(5-i) + '*'*i)"
   ]
  },
  {
   "cell_type": "markdown",
   "metadata": {},
   "source": [
    "<div class=\"alert alert-success\">\n",
    "    <b>예제(Exercise)</b>:\n",
    "    <ul>\n",
    "        <li>아래와 같은 모양을 출력하시오.</li>\n",
    "        <li>출력 예시</li>\n",
    "        <code>\n",
    "    *\n",
    "   ***\n",
    "  *****\n",
    " *******\n",
    "*********</code>\n",
    "    </ul>\n",
    "</div>"
   ]
  },
  {
   "cell_type": "code",
   "execution_count": 42,
   "metadata": {
    "ExecuteTime": {
     "end_time": "2021-08-08T07:02:14.423837Z",
     "start_time": "2021-08-08T07:02:14.417438Z"
    }
   },
   "outputs": [
    {
     "name": "stdout",
     "output_type": "stream",
     "text": [
      "    *\n",
      "   ***\n",
      "  *****\n",
      " *******\n",
      "*********\n"
     ]
    }
   ],
   "source": [
    "for i in range(1,6):\n",
    "    print(' '*(5-i) + '*'*(2*i-1))"
   ]
  },
  {
   "cell_type": "markdown",
   "metadata": {},
   "source": [
    "<div class=\"alert alert-success\">\n",
    "    <b>예제(Exercise)</b>:\n",
    "    <ul>\n",
    "        <li>아래와 같은 모양을 출력하시오.</li>\n",
    "        <li>출력 예시</li>\n",
    "        <code>\n",
    "    *\n",
    "   ***\n",
    "  *****\n",
    " *******\n",
    "*********\n",
    " *******\n",
    "  *****\n",
    "   ***\n",
    "    *</code>\n",
    "    </ul>\n",
    "</div>"
   ]
  },
  {
   "cell_type": "code",
   "execution_count": 43,
   "metadata": {
    "ExecuteTime": {
     "end_time": "2021-08-08T07:02:15.596892Z",
     "start_time": "2021-08-08T07:02:15.588728Z"
    }
   },
   "outputs": [
    {
     "name": "stdout",
     "output_type": "stream",
     "text": [
      "    *\n",
      "   ***\n",
      "  *****\n",
      " *******\n",
      "*********\n",
      " *******\n",
      "  *****\n",
      "   ***\n",
      "    *\n"
     ]
    }
   ],
   "source": [
    "for i in range(1,10):\n",
    "    if i <= 5:\n",
    "        print(' '*(5-i) + '*'*(2*i-1))\n",
    "    else:\n",
    "        print(' '*(i-5) + '*'*(2*(5-abs(i-5))-1))"
   ]
  },
  {
   "cell_type": "markdown",
   "metadata": {},
   "source": [
    "## 함수\n",
    "<hr style=\"height:3px;border:none;color:#5F71F7;background-color:#203E60;\" />\n",
    "함수를 설명하기 전에 믹서를 생각해 보자. 우리는 믹서에 과일을 넣는다. 그리고 믹서를 사용해서 과일을 갈아 과일 주스를 만든다. 우리가 믹서에 넣는 과일은 \"입력\"이 되고 과일 주스는 \"출력(결괏값)\"이 된다."
   ]
  },
  {
   "cell_type": "code",
   "execution_count": 44,
   "metadata": {
    "ExecuteTime": {
     "end_time": "2021-08-08T07:02:19.021774Z",
     "start_time": "2021-08-08T07:02:19.017801Z"
    }
   },
   "outputs": [],
   "source": [
    "def myaddfunc(a,b):\n",
    "    return a+b"
   ]
  },
  {
   "cell_type": "code",
   "execution_count": 45,
   "metadata": {
    "ExecuteTime": {
     "end_time": "2021-08-08T07:02:19.489433Z",
     "start_time": "2021-08-08T07:02:19.485717Z"
    }
   },
   "outputs": [
    {
     "data": {
      "text/plain": [
       "3"
      ]
     },
     "execution_count": 45,
     "metadata": {},
     "output_type": "execute_result"
    }
   ],
   "source": [
    "myaddfunc(1,2)"
   ]
  },
  {
   "cell_type": "markdown",
   "metadata": {},
   "source": [
    "<div class=\"alert alert-success\">\n",
    "    <b>예제(Exercise)</b>:\n",
    "    <ul>\n",
    "        <li>n을 입력으로 받는 n단 함수(gugudan)를 작성하시오</li>\n",
    "        <br>\n",
    "        <li>예시1) gugudan(3)</li>\n",
    "        <code>\n",
    "3 x 1 = 3\n",
    "3 x 2 = 6\n",
    "3 x 3 = 9</code>\n",
    "        <br><br>\n",
    "        <li>예시2) gugudan(9)</li>\n",
    "        <code>\n",
    "9 x 1 = 9\n",
    "9 x 2 = 18\n",
    "9 x 3 = 27\n",
    "9 x 4 = 36\n",
    "9 x 5 = 45\n",
    "9 x 6 = 54\n",
    "9 x 7 = 63\n",
    "9 x 8 = 72\n",
    "9 x 9 = 81</code>\n",
    "    </ul>\n",
    "</div>"
   ]
  },
  {
   "cell_type": "code",
   "execution_count": 46,
   "metadata": {
    "ExecuteTime": {
     "end_time": "2021-08-08T07:02:20.884102Z",
     "start_time": "2021-08-08T07:02:20.879315Z"
    }
   },
   "outputs": [],
   "source": [
    "def gugudan(n):\n",
    "    for i in range(1,n+1):\n",
    "        print(\"{} x {} = {}\".format(n,i,n*i))\n",
    "        if i == n:\n",
    "            break"
   ]
  },
  {
   "cell_type": "code",
   "execution_count": 47,
   "metadata": {
    "ExecuteTime": {
     "end_time": "2021-08-08T07:02:21.466367Z",
     "start_time": "2021-08-08T07:02:21.461319Z"
    }
   },
   "outputs": [
    {
     "name": "stdout",
     "output_type": "stream",
     "text": [
      "3 x 1 = 3\n",
      "3 x 2 = 6\n",
      "3 x 3 = 9\n"
     ]
    }
   ],
   "source": [
    "gugudan(3)"
   ]
  },
  {
   "cell_type": "code",
   "execution_count": 48,
   "metadata": {
    "ExecuteTime": {
     "end_time": "2021-08-08T07:02:21.972923Z",
     "start_time": "2021-08-08T07:02:21.967410Z"
    }
   },
   "outputs": [
    {
     "name": "stdout",
     "output_type": "stream",
     "text": [
      "9 x 1 = 9\n",
      "9 x 2 = 18\n",
      "9 x 3 = 27\n",
      "9 x 4 = 36\n",
      "9 x 5 = 45\n",
      "9 x 6 = 54\n",
      "9 x 7 = 63\n",
      "9 x 8 = 72\n",
      "9 x 9 = 81\n"
     ]
    }
   ],
   "source": [
    "gugudan(9)"
   ]
  },
  {
   "cell_type": "markdown",
   "metadata": {},
   "source": [
    "## 파이썬 Built-in 함수\n",
    "<hr style=\"height:3px;border:none;color:#5F71F7;background-color:#203E60;\" />\n",
    "\n",
    "지금까지 파이썬으로 프로그래밍하기 위해 알아야 하는 것들을 대부분 공부했다. 이제 여러분은 원하는 프로그램을 직접 만들 수 있을 것이다. 하지만 그 전에 먼저 여러분이 만들려는 프로그램이 이미 만들어져 있는지 살펴보기 바란다. 물론 공부를 위해서라면 누군가 만들어 놓은 프로그램을 또 만들 수도 있다. 하지만 그런 목적이 아니라면 이미 만들어진 것을 다시 만드는 것은 불필요한 행동이다(Don’t Reinvent The Wheel, 이미 있는 것을 다시 만드느라 쓸데없이 시간을 낭비하지 말라). 그리고 이미 만들어진 프로그램은 테스트 과정을 수 없이 거쳤기 때문에 충분히 검증되어 있다. 따라서 무엇인가 새로운 프로그램을 만들기 전에는 이미 만들어진 것들, 그중에서도 특히 파이썬 배포본에 함께 들어 있는 파이썬 라이브러리를 살펴보는 것이 매우 중요하다.\n",
    "\n",
    "라이브러리를 살펴보기 전에 파이썬 내장 함수를 먼저 살펴보자. 우리는 이미 몇 가지 내장 함수를 배웠다. print, del, type 등이 바로 그것이다. 이러한 파이썬 내장 함수는 외부 모듈과 달리 import가 필요하지 않기 때문에 아무런 설정 없이 바로 사용할 수 있다.\n",
    "\n",
    "https://docs.python.org/ko/3/library/functions.html"
   ]
  },
  {
   "cell_type": "code",
   "execution_count": 49,
   "metadata": {
    "ExecuteTime": {
     "end_time": "2021-08-08T07:02:22.626838Z",
     "start_time": "2021-08-08T07:02:22.621270Z"
    }
   },
   "outputs": [],
   "source": [
    "import builtins\n",
    "import inspect\n",
    "\n",
    "builtins_funcs = [name for name, function in sorted(vars(builtins).items())\n",
    " if inspect.isbuiltin(function) or inspect.isfunction(function)]"
   ]
  },
  {
   "cell_type": "code",
   "execution_count": 50,
   "metadata": {
    "ExecuteTime": {
     "end_time": "2021-08-08T07:02:23.034963Z",
     "start_time": "2021-08-08T07:02:23.024802Z"
    }
   },
   "outputs": [
    {
     "name": "stdout",
     "output_type": "stream",
     "text": [
      "__build_class__     \t__import__          \tabs                 \tall                 \t\n",
      "any                 \tascii               \tbin                 \tbreakpoint          \t\n",
      "callable            \tchr                 \tcompile             \tdelattr             \t\n",
      "dir                 \tdisplay             \tdivmod              \teval                \t\n",
      "exec                \tformat              \tgetattr             \tglobals             \t\n",
      "hasattr             \thash                \thex                 \tid                  \t\n",
      "isinstance          \tissubclass          \titer                \tlen                 \t\n",
      "locals              \tmax                 \tmin                 \tnext                \t\n",
      "oct                 \topen                \tord                 \tpow                 \t\n",
      "print               \trepr                \tround               \tsetattr             \t\n",
      "sorted              \tsum                 \tvars                \t"
     ]
    }
   ],
   "source": [
    "for n,func in enumerate(builtins_funcs,start=1):\n",
    "    print('{:20s}'.format(func), end='\\t')\n",
    "    if n % 4 == 0:\n",
    "        print('')"
   ]
  },
  {
   "cell_type": "code",
   "execution_count": 51,
   "metadata": {
    "ExecuteTime": {
     "end_time": "2021-08-08T07:02:23.268417Z",
     "start_time": "2021-08-08T07:02:23.262535Z"
    }
   },
   "outputs": [
    {
     "data": {
      "text/plain": [
       "1"
      ]
     },
     "execution_count": 51,
     "metadata": {},
     "output_type": "execute_result"
    }
   ],
   "source": [
    "min(1,2)"
   ]
  },
  {
   "cell_type": "code",
   "execution_count": 52,
   "metadata": {
    "ExecuteTime": {
     "end_time": "2021-08-08T07:02:23.472197Z",
     "start_time": "2021-08-08T07:02:23.466420Z"
    }
   },
   "outputs": [
    {
     "data": {
      "text/plain": [
       "3"
      ]
     },
     "execution_count": 52,
     "metadata": {},
     "output_type": "execute_result"
    }
   ],
   "source": [
    "max(2,3)"
   ]
  },
  {
   "cell_type": "code",
   "execution_count": 53,
   "metadata": {
    "ExecuteTime": {
     "end_time": "2021-08-08T07:02:23.693468Z",
     "start_time": "2021-08-08T07:02:23.687449Z"
    }
   },
   "outputs": [
    {
     "data": {
      "text/plain": [
       "7"
      ]
     },
     "execution_count": 53,
     "metadata": {},
     "output_type": "execute_result"
    }
   ],
   "source": [
    "sum([3,4])"
   ]
  },
  {
   "cell_type": "code",
   "execution_count": 54,
   "metadata": {
    "ExecuteTime": {
     "end_time": "2021-08-08T07:02:23.909984Z",
     "start_time": "2021-08-08T07:02:23.904236Z"
    }
   },
   "outputs": [
    {
     "data": {
      "text/plain": [
       "8"
      ]
     },
     "execution_count": 54,
     "metadata": {},
     "output_type": "execute_result"
    }
   ],
   "source": [
    "pow(2,3)"
   ]
  },
  {
   "cell_type": "code",
   "execution_count": 11,
   "metadata": {
    "ExecuteTime": {
     "end_time": "2021-08-14T05:52:55.374444Z",
     "start_time": "2021-08-14T05:52:55.367414Z"
    }
   },
   "outputs": [
    {
     "data": {
      "text/plain": [
       "[0, 1, 2, 3, 4]"
      ]
     },
     "execution_count": 11,
     "metadata": {},
     "output_type": "execute_result"
    }
   ],
   "source": [
    "list(range(5))"
   ]
  },
  {
   "cell_type": "code",
   "execution_count": 55,
   "metadata": {
    "ExecuteTime": {
     "end_time": "2021-08-08T07:02:24.106691Z",
     "start_time": "2021-08-08T07:02:24.100669Z"
    }
   },
   "outputs": [
    {
     "data": {
      "text/plain": [
       "[1, 2, 3, 4, 5]"
      ]
     },
     "execution_count": 55,
     "metadata": {},
     "output_type": "execute_result"
    }
   ],
   "source": [
    "sorted([4,5,1,3,2])"
   ]
  },
  {
   "cell_type": "code",
   "execution_count": 56,
   "metadata": {
    "ExecuteTime": {
     "end_time": "2021-08-08T07:02:24.287609Z",
     "start_time": "2021-08-08T07:02:24.282076Z"
    }
   },
   "outputs": [
    {
     "data": {
      "text/plain": [
       "3"
      ]
     },
     "execution_count": 56,
     "metadata": {},
     "output_type": "execute_result"
    }
   ],
   "source": [
    "len([1,2,3])"
   ]
  },
  {
   "cell_type": "code",
   "execution_count": 1,
   "metadata": {
    "ExecuteTime": {
     "end_time": "2021-08-14T05:49:50.182486Z",
     "start_time": "2021-08-14T05:49:50.164637Z"
    }
   },
   "outputs": [
    {
     "data": {
      "text/plain": [
       "1"
      ]
     },
     "execution_count": 1,
     "metadata": {},
     "output_type": "execute_result"
    }
   ],
   "source": [
    "abs(-1)"
   ]
  },
  {
   "cell_type": "code",
   "execution_count": 4,
   "metadata": {
    "ExecuteTime": {
     "end_time": "2021-08-14T05:50:26.931083Z",
     "start_time": "2021-08-14T05:50:26.923645Z"
    }
   },
   "outputs": [
    {
     "data": {
      "text/plain": [
       "False"
      ]
     },
     "execution_count": 4,
     "metadata": {},
     "output_type": "execute_result"
    }
   ],
   "source": [
    "all([True, True, False])"
   ]
  },
  {
   "cell_type": "code",
   "execution_count": 3,
   "metadata": {
    "ExecuteTime": {
     "end_time": "2021-08-14T05:50:21.001738Z",
     "start_time": "2021-08-14T05:50:20.994877Z"
    }
   },
   "outputs": [
    {
     "data": {
      "text/plain": [
       "True"
      ]
     },
     "execution_count": 3,
     "metadata": {},
     "output_type": "execute_result"
    }
   ],
   "source": [
    "any([True, False])"
   ]
  },
  {
   "cell_type": "code",
   "execution_count": 5,
   "metadata": {
    "ExecuteTime": {
     "end_time": "2021-08-14T05:50:45.551204Z",
     "start_time": "2021-08-14T05:50:45.542412Z"
    }
   },
   "outputs": [
    {
     "data": {
      "text/plain": [
       "['__add__',\n",
       " '__class__',\n",
       " '__contains__',\n",
       " '__delattr__',\n",
       " '__delitem__',\n",
       " '__dir__',\n",
       " '__doc__',\n",
       " '__eq__',\n",
       " '__format__',\n",
       " '__ge__',\n",
       " '__getattribute__',\n",
       " '__getitem__',\n",
       " '__gt__',\n",
       " '__hash__',\n",
       " '__iadd__',\n",
       " '__imul__',\n",
       " '__init__',\n",
       " '__init_subclass__',\n",
       " '__iter__',\n",
       " '__le__',\n",
       " '__len__',\n",
       " '__lt__',\n",
       " '__mul__',\n",
       " '__ne__',\n",
       " '__new__',\n",
       " '__reduce__',\n",
       " '__reduce_ex__',\n",
       " '__repr__',\n",
       " '__reversed__',\n",
       " '__rmul__',\n",
       " '__setattr__',\n",
       " '__setitem__',\n",
       " '__sizeof__',\n",
       " '__str__',\n",
       " '__subclasshook__',\n",
       " 'append',\n",
       " 'clear',\n",
       " 'copy',\n",
       " 'count',\n",
       " 'extend',\n",
       " 'index',\n",
       " 'insert',\n",
       " 'pop',\n",
       " 'remove',\n",
       " 'reverse',\n",
       " 'sort']"
      ]
     },
     "execution_count": 5,
     "metadata": {},
     "output_type": "execute_result"
    }
   ],
   "source": [
    "dir([1,2,3])"
   ]
  },
  {
   "cell_type": "code",
   "execution_count": 6,
   "metadata": {
    "ExecuteTime": {
     "end_time": "2021-08-14T05:51:07.386252Z",
     "start_time": "2021-08-14T05:51:07.379195Z"
    }
   },
   "outputs": [
    {
     "name": "stdout",
     "output_type": "stream",
     "text": [
      "0 a\n",
      "1 b\n",
      "2 c\n"
     ]
    }
   ],
   "source": [
    "for i, name in enumerate(['a', 'b', 'c']):\n",
    "    print(i, name)"
   ]
  },
  {
   "cell_type": "code",
   "execution_count": 7,
   "metadata": {
    "ExecuteTime": {
     "end_time": "2021-08-14T05:51:18.006099Z",
     "start_time": "2021-08-14T05:51:17.999427Z"
    }
   },
   "outputs": [
    {
     "data": {
      "text/plain": [
       "3"
      ]
     },
     "execution_count": 7,
     "metadata": {},
     "output_type": "execute_result"
    }
   ],
   "source": [
    "eval(\"1+2\")"
   ]
  },
  {
   "cell_type": "code",
   "execution_count": 8,
   "metadata": {
    "ExecuteTime": {
     "end_time": "2021-08-14T05:51:31.292876Z",
     "start_time": "2021-08-14T05:51:31.286311Z"
    }
   },
   "outputs": [
    {
     "data": {
      "text/plain": [
       "94293869777664"
      ]
     },
     "execution_count": 8,
     "metadata": {},
     "output_type": "execute_result"
    }
   ],
   "source": [
    "id(1)"
   ]
  },
  {
   "cell_type": "code",
   "execution_count": 9,
   "metadata": {
    "ExecuteTime": {
     "end_time": "2021-08-14T05:52:26.205664Z",
     "start_time": "2021-08-14T05:52:26.198600Z"
    }
   },
   "outputs": [
    {
     "name": "stdout",
     "output_type": "stream",
     "text": [
      "1 a\n",
      "2 b\n",
      "3 c\n"
     ]
    }
   ],
   "source": [
    "for n,c in zip([1,2,3],['a','b','c']):\n",
    "    print(n,c)"
   ]
  },
  {
   "cell_type": "markdown",
   "metadata": {},
   "source": [
    "## 클래스\n",
    "<hr style=\"height:3px;border:none;color:#5F71F7;background-color:#203E60;\" />\n",
    "프로그래머들이 가장 많이 사용하는 프로그래밍 언어 중 하나인 C 언어에는 클래스가 없다. 이 말은 굳이 클래스가 없어도 프로그램을 충분히 만들 수 있다는 뜻이다. 파이썬으로 잘 만든 프로그램을 살펴보아도 클래스를 사용하지 않고 작성한 것들이 상당히 많다. 클래스는 지금까지 공부한 함수나 자료형처럼 프로그램 작성을 위해 꼭 필요한 요소는 아니다.\n",
    "\n"
   ]
  },
  {
   "cell_type": "code",
   "execution_count": 57,
   "metadata": {
    "ExecuteTime": {
     "end_time": "2021-08-08T07:02:24.661443Z",
     "start_time": "2021-08-08T07:02:24.657413Z"
    }
   },
   "outputs": [],
   "source": [
    "class SimpleClass:\n",
    "    def __init__(self,a):\n",
    "        self.a = a\n",
    "        print(a)"
   ]
  },
  {
   "cell_type": "code",
   "execution_count": 58,
   "metadata": {
    "ExecuteTime": {
     "end_time": "2021-08-08T07:02:24.857026Z",
     "start_time": "2021-08-08T07:02:24.850067Z"
    },
    "scrolled": true
   },
   "outputs": [
    {
     "name": "stdout",
     "output_type": "stream",
     "text": [
      "0\n"
     ]
    },
    {
     "data": {
      "text/plain": [
       "<__main__.SimpleClass at 0x7fc5a83ba210>"
      ]
     },
     "execution_count": 58,
     "metadata": {},
     "output_type": "execute_result"
    }
   ],
   "source": [
    "SimpleClass(0)"
   ]
  },
  {
   "cell_type": "markdown",
   "metadata": {},
   "source": [
    "## 입력과 출력\n",
    "<hr style=\"height:3px;border:none;color:#5F71F7;background-color:#203E60;\" />\n",
    "우리들이 사용하는 대부분의 완성된 프로그램은 사용자 입력에 따라 그에 맞는 출력을 내보낸다. 대표적인 예로 게시판에 글을 작성한 후 \"확인\" 버튼을 눌러야만(입력) 우리가 작성한 글이 게시판에 올라가는(출력) 것을 들 수 있다.\n",
    "\n",
    "우리는 이미 함수 부분에서 입력과 출력이 어떤 의미를 가지는지 알아보았다. 지금부터는 좀 더 다양하게 사용자의 입력을 받는 방법과 출력하는 방법을 알아보자.\n",
    "\n",
    "출처: 점프투 파이썬"
   ]
  },
  {
   "cell_type": "markdown",
   "metadata": {},
   "source": [
    "### 출력"
   ]
  },
  {
   "cell_type": "code",
   "execution_count": 1,
   "metadata": {
    "ExecuteTime": {
     "end_time": "2021-08-08T07:01:30.606291Z",
     "start_time": "2021-08-08T07:01:30.603105Z"
    }
   },
   "outputs": [
    {
     "name": "stdout",
     "output_type": "stream",
     "text": [
      "hello world\n"
     ]
    }
   ],
   "source": [
    "print('hello world')"
   ]
  },
  {
   "cell_type": "markdown",
   "metadata": {},
   "source": [
    "### 입력\n",
    "기본적으로 입력을 받을때 문자열 타입으로 입력받게 됩니다."
   ]
  },
  {
   "cell_type": "code",
   "execution_count": 3,
   "metadata": {
    "ExecuteTime": {
     "end_time": "2021-08-08T07:01:54.113127Z",
     "start_time": "2021-08-08T07:01:52.054179Z"
    }
   },
   "outputs": [
    {
     "name": "stdout",
     "output_type": "stream",
     "text": [
      "숫자를 입력하세요: 5\n"
     ]
    },
    {
     "data": {
      "text/plain": [
       "'5'"
      ]
     },
     "execution_count": 3,
     "metadata": {},
     "output_type": "execute_result"
    }
   ],
   "source": [
    "a = input('숫자를 입력하세요: ')\n",
    "a"
   ]
  },
  {
   "cell_type": "code",
   "execution_count": null,
   "metadata": {},
   "outputs": [],
   "source": []
  }
 ],
 "metadata": {
  "hide_input": false,
  "kernelspec": {
   "display_name": "Python 3",
   "language": "python",
   "name": "python3"
  },
  "language_info": {
   "codemirror_mode": {
    "name": "ipython",
    "version": 3
   },
   "file_extension": ".py",
   "mimetype": "text/x-python",
   "name": "python",
   "nbconvert_exporter": "python",
   "pygments_lexer": "ipython3",
   "version": "3.7.10"
  },
  "toc": {
   "base_numbering": 1,
   "nav_menu": {},
   "number_sections": true,
   "sideBar": true,
   "skip_h1_title": true,
   "title_cell": "Table of Contents",
   "title_sidebar": "Contents",
   "toc_cell": true,
   "toc_position": {
    "height": "calc(100% - 180px)",
    "left": "10px",
    "top": "150px",
    "width": "409.594px"
   },
   "toc_section_display": true,
   "toc_window_display": true
  }
 },
 "nbformat": 4,
 "nbformat_minor": 4
}
