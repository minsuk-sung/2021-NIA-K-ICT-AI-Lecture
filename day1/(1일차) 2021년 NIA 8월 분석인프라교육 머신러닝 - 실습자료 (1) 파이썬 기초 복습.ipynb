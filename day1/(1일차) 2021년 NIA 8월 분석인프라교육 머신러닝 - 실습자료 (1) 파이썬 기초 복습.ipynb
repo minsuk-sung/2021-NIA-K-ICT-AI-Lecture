{
 "cells": [
  {
   "cell_type": "markdown",
   "metadata": {},
   "source": [
    "<img src=\"../img/K-ICT_logo.jpg\" width=50%>\n",
    "<br>\n",
    "<div align='center'><font size=5><b>분석 인프라 활용 AI 교육</b></font></div>\n",
    "<br>\n",
    "<div align='center'><font size=3>인공지능 빅데이터 전문가 심화과정</font></div>\n",
    "<br>\n",
    "<div align='right'>강사 <a href=\"https://open.kakao.com/me/minsuksung\">성민석</a></div>\n",
    "<div align='right'>minsuksung@korea.ac.kr</div>"
   ]
  },
  {
   "cell_type": "markdown",
   "metadata": {
    "toc": true
   },
   "source": [
    "<h1>Table of Contents<span class=\"tocSkip\"></span></h1>\n",
    "<div class=\"toc\"><ul class=\"toc-item\"><li><span><a href=\"#입력과-출력\" data-toc-modified-id=\"입력과-출력-1\"><span class=\"toc-item-num\">1&nbsp;&nbsp;</span>입력과 출력</a></span><ul class=\"toc-item\"><li><span><a href=\"#출력\" data-toc-modified-id=\"출력-1.1\"><span class=\"toc-item-num\">1.1&nbsp;&nbsp;</span>출력</a></span></li><li><span><a href=\"#입력\" data-toc-modified-id=\"입력-1.2\"><span class=\"toc-item-num\">1.2&nbsp;&nbsp;</span>입력</a></span></li></ul></li><li><span><a href=\"#파이썬-자료형\" data-toc-modified-id=\"파이썬-자료형-2\"><span class=\"toc-item-num\">2&nbsp;&nbsp;</span>파이썬 자료형</a></span><ul class=\"toc-item\"><li><span><a href=\"#리스트\" data-toc-modified-id=\"리스트-2.1\"><span class=\"toc-item-num\">2.1&nbsp;&nbsp;</span>리스트</a></span><ul class=\"toc-item\"><li><span><a href=\"#인덱싱\" data-toc-modified-id=\"인덱싱-2.1.1\"><span class=\"toc-item-num\">2.1.1&nbsp;&nbsp;</span>인덱싱</a></span></li><li><span><a href=\"#슬라이싱\" data-toc-modified-id=\"슬라이싱-2.1.2\"><span class=\"toc-item-num\">2.1.2&nbsp;&nbsp;</span>슬라이싱</a></span></li><li><span><a href=\"#추가\" data-toc-modified-id=\"추가-2.1.3\"><span class=\"toc-item-num\">2.1.3&nbsp;&nbsp;</span>추가</a></span></li><li><span><a href=\"#확장\" data-toc-modified-id=\"확장-2.1.4\"><span class=\"toc-item-num\">2.1.4&nbsp;&nbsp;</span>확장</a></span></li><li><span><a href=\"#정렬\" data-toc-modified-id=\"정렬-2.1.5\"><span class=\"toc-item-num\">2.1.5&nbsp;&nbsp;</span>정렬</a></span></li></ul></li><li><span><a href=\"#튜플\" data-toc-modified-id=\"튜플-2.2\"><span class=\"toc-item-num\">2.2&nbsp;&nbsp;</span>튜플</a></span><ul class=\"toc-item\"><li><span><a href=\"#튜플과-리스트의-차이점\" data-toc-modified-id=\"튜플과-리스트의-차이점-2.2.1\"><span class=\"toc-item-num\">2.2.1&nbsp;&nbsp;</span>튜플과 리스트의 차이점</a></span></li><li><span><a href=\"#인덱싱\" data-toc-modified-id=\"인덱싱-2.2.2\"><span class=\"toc-item-num\">2.2.2&nbsp;&nbsp;</span>인덱싱</a></span></li><li><span><a href=\"#슬라이싱\" data-toc-modified-id=\"슬라이싱-2.2.3\"><span class=\"toc-item-num\">2.2.3&nbsp;&nbsp;</span>슬라이싱</a></span></li></ul></li><li><span><a href=\"#딕셔너리\" data-toc-modified-id=\"딕셔너리-2.3\"><span class=\"toc-item-num\">2.3&nbsp;&nbsp;</span>딕셔너리</a></span></li><li><span><a href=\"#집합\" data-toc-modified-id=\"집합-2.4\"><span class=\"toc-item-num\">2.4&nbsp;&nbsp;</span>집합</a></span></li></ul></li><li><span><a href=\"#제어문\" data-toc-modified-id=\"제어문-3\"><span class=\"toc-item-num\">3&nbsp;&nbsp;</span>제어문</a></span><ul class=\"toc-item\"><li><span><a href=\"#if문\" data-toc-modified-id=\"if문-3.1\"><span class=\"toc-item-num\">3.1&nbsp;&nbsp;</span>if문</a></span></li><li><span><a href=\"#if-else문\" data-toc-modified-id=\"if-else문-3.2\"><span class=\"toc-item-num\">3.2&nbsp;&nbsp;</span>if-else문</a></span></li></ul></li><li><span><a href=\"#반복문\" data-toc-modified-id=\"반복문-4\"><span class=\"toc-item-num\">4&nbsp;&nbsp;</span>반복문</a></span><ul class=\"toc-item\"><li><span><a href=\"#for문\" data-toc-modified-id=\"for문-4.1\"><span class=\"toc-item-num\">4.1&nbsp;&nbsp;</span>for문</a></span></li><li><span><a href=\"#while문\" data-toc-modified-id=\"while문-4.2\"><span class=\"toc-item-num\">4.2&nbsp;&nbsp;</span>while문</a></span></li></ul></li><li><span><a href=\"#함수\" data-toc-modified-id=\"함수-5\"><span class=\"toc-item-num\">5&nbsp;&nbsp;</span>함수</a></span></li><li><span><a href=\"#파이썬-Built-in-함수\" data-toc-modified-id=\"파이썬-Built-in-함수-6\"><span class=\"toc-item-num\">6&nbsp;&nbsp;</span>파이썬 Built-in 함수</a></span></li><li><span><a href=\"#클래스\" data-toc-modified-id=\"클래스-7\"><span class=\"toc-item-num\">7&nbsp;&nbsp;</span>클래스</a></span></li></ul></div>"
   ]
  },
  {
   "cell_type": "markdown",
   "metadata": {},
   "source": [
    "<div align='center'><font size=3 color='red'><b>주의</b>: </font><font size=3><b>구글 콜랩</b>이나 <b>아나콘다</b>를 통해서 주피터 노트북을 실행해주세요!</font></div>"
   ]
  },
  {
   "cell_type": "markdown",
   "metadata": {},
   "source": [
    "## 입력과 출력\n",
    "<hr style=\"height:3px;border:none;color:#5F71F7;background-color:#203E60;\" />"
   ]
  },
  {
   "cell_type": "markdown",
   "metadata": {},
   "source": [
    "### 출력"
   ]
  },
  {
   "cell_type": "code",
   "execution_count": 1,
   "metadata": {
    "ExecuteTime": {
     "end_time": "2021-08-08T07:01:30.606291Z",
     "start_time": "2021-08-08T07:01:30.603105Z"
    }
   },
   "outputs": [
    {
     "name": "stdout",
     "output_type": "stream",
     "text": [
      "hello world\n"
     ]
    }
   ],
   "source": [
    "print('hello world')"
   ]
  },
  {
   "cell_type": "markdown",
   "metadata": {},
   "source": [
    "### 입력"
   ]
  },
  {
   "cell_type": "code",
   "execution_count": 3,
   "metadata": {
    "ExecuteTime": {
     "end_time": "2021-08-08T07:01:54.113127Z",
     "start_time": "2021-08-08T07:01:52.054179Z"
    }
   },
   "outputs": [
    {
     "name": "stdout",
     "output_type": "stream",
     "text": [
      "숫자를 입력하세요: 5\n"
     ]
    },
    {
     "data": {
      "text/plain": [
       "'5'"
      ]
     },
     "execution_count": 3,
     "metadata": {},
     "output_type": "execute_result"
    }
   ],
   "source": [
    "a = input('숫자를 입력하세요: ')\n",
    "a"
   ]
  },
  {
   "cell_type": "markdown",
   "metadata": {},
   "source": [
    "## 파이썬 자료형\n",
    "<hr style=\"height:3px;border:none;color:#5F71F7;background-color:#203E60;\" />"
   ]
  },
  {
   "cell_type": "markdown",
   "metadata": {},
   "source": [
    "### 리스트"
   ]
  },
  {
   "cell_type": "code",
   "execution_count": 4,
   "metadata": {
    "ExecuteTime": {
     "end_time": "2021-08-08T07:01:55.264691Z",
     "start_time": "2021-08-08T07:01:55.258513Z"
    }
   },
   "outputs": [
    {
     "data": {
      "text/plain": [
       "[]"
      ]
     },
     "execution_count": 4,
     "metadata": {},
     "output_type": "execute_result"
    }
   ],
   "source": [
    "list() # 빈 리스트 생성"
   ]
  },
  {
   "cell_type": "code",
   "execution_count": 5,
   "metadata": {
    "ExecuteTime": {
     "end_time": "2021-08-08T07:01:55.446449Z",
     "start_time": "2021-08-08T07:01:55.439842Z"
    }
   },
   "outputs": [
    {
     "data": {
      "text/plain": [
       "[1, 2, 3]"
      ]
     },
     "execution_count": 5,
     "metadata": {},
     "output_type": "execute_result"
    }
   ],
   "source": [
    "[1, 2, 3]  # 콤마(,)로 구분"
   ]
  },
  {
   "cell_type": "code",
   "execution_count": 6,
   "metadata": {
    "ExecuteTime": {
     "end_time": "2021-08-08T07:01:55.599882Z",
     "start_time": "2021-08-08T07:01:55.593016Z"
    }
   },
   "outputs": [
    {
     "data": {
      "text/plain": [
       "[100, 3.14, 'abc', True]"
      ]
     },
     "execution_count": 6,
     "metadata": {},
     "output_type": "execute_result"
    }
   ],
   "source": [
    "[100,3.14,'abc',True]  # Type이 다 같을 필요가 없음! 즉, 어떤 type이든 상관없음"
   ]
  },
  {
   "cell_type": "code",
   "execution_count": 7,
   "metadata": {
    "ExecuteTime": {
     "end_time": "2021-08-08T07:01:56.074484Z",
     "start_time": "2021-08-08T07:01:56.070248Z"
    }
   },
   "outputs": [],
   "source": [
    "x = [10 ,'a', 1.234, -10, 'bc']"
   ]
  },
  {
   "cell_type": "markdown",
   "metadata": {},
   "source": [
    "#### 인덱싱"
   ]
  },
  {
   "cell_type": "code",
   "execution_count": 8,
   "metadata": {
    "ExecuteTime": {
     "end_time": "2021-08-08T07:01:56.433806Z",
     "start_time": "2021-08-08T07:01:56.427507Z"
    }
   },
   "outputs": [
    {
     "data": {
      "text/plain": [
       "10"
      ]
     },
     "execution_count": 8,
     "metadata": {},
     "output_type": "execute_result"
    }
   ],
   "source": [
    "x[0]  # 항상 0부터"
   ]
  },
  {
   "cell_type": "code",
   "execution_count": 9,
   "metadata": {
    "ExecuteTime": {
     "end_time": "2021-08-08T07:01:56.587507Z",
     "start_time": "2021-08-08T07:01:56.581200Z"
    }
   },
   "outputs": [
    {
     "data": {
      "text/plain": [
       "'bc'"
      ]
     },
     "execution_count": 9,
     "metadata": {},
     "output_type": "execute_result"
    }
   ],
   "source": [
    "x[-1]"
   ]
  },
  {
   "cell_type": "markdown",
   "metadata": {},
   "source": [
    "#### 슬라이싱"
   ]
  },
  {
   "cell_type": "code",
   "execution_count": 10,
   "metadata": {
    "ExecuteTime": {
     "end_time": "2021-08-08T07:01:56.955007Z",
     "start_time": "2021-08-08T07:01:56.948583Z"
    }
   },
   "outputs": [
    {
     "data": {
      "text/plain": [
       "[10, 'a', 1.234]"
      ]
     },
     "execution_count": 10,
     "metadata": {},
     "output_type": "execute_result"
    }
   ],
   "source": [
    "x[0:3]"
   ]
  },
  {
   "cell_type": "code",
   "execution_count": 11,
   "metadata": {
    "ExecuteTime": {
     "end_time": "2021-08-08T07:01:57.137974Z",
     "start_time": "2021-08-08T07:01:57.131090Z"
    }
   },
   "outputs": [
    {
     "data": {
      "text/plain": [
       "[1.234, -10]"
      ]
     },
     "execution_count": 11,
     "metadata": {},
     "output_type": "execute_result"
    }
   ],
   "source": [
    "x[-3:-1]"
   ]
  },
  {
   "cell_type": "markdown",
   "metadata": {},
   "source": [
    "#### 추가"
   ]
  },
  {
   "cell_type": "code",
   "execution_count": 12,
   "metadata": {
    "ExecuteTime": {
     "end_time": "2021-08-08T07:01:57.514891Z",
     "start_time": "2021-08-08T07:01:57.509032Z"
    }
   },
   "outputs": [
    {
     "data": {
      "text/plain": [
       "[10, 'a', 1.234, -10, 'bc']"
      ]
     },
     "execution_count": 12,
     "metadata": {},
     "output_type": "execute_result"
    }
   ],
   "source": [
    "x"
   ]
  },
  {
   "cell_type": "code",
   "execution_count": 13,
   "metadata": {
    "ExecuteTime": {
     "end_time": "2021-08-08T07:01:57.704194Z",
     "start_time": "2021-08-08T07:01:57.700308Z"
    }
   },
   "outputs": [],
   "source": [
    "x.append('hi')"
   ]
  },
  {
   "cell_type": "code",
   "execution_count": 14,
   "metadata": {
    "ExecuteTime": {
     "end_time": "2021-08-08T07:01:57.884254Z",
     "start_time": "2021-08-08T07:01:57.878494Z"
    }
   },
   "outputs": [
    {
     "data": {
      "text/plain": [
       "[10, 'a', 1.234, -10, 'bc', 'hi']"
      ]
     },
     "execution_count": 14,
     "metadata": {},
     "output_type": "execute_result"
    }
   ],
   "source": [
    "x"
   ]
  },
  {
   "cell_type": "code",
   "execution_count": 15,
   "metadata": {
    "ExecuteTime": {
     "end_time": "2021-08-08T07:01:58.066312Z",
     "start_time": "2021-08-08T07:01:58.060309Z"
    }
   },
   "outputs": [
    {
     "data": {
      "text/plain": [
       "[10, 'a', 1.234, -10, 'bc', 'hi', 'bye']"
      ]
     },
     "execution_count": 15,
     "metadata": {},
     "output_type": "execute_result"
    }
   ],
   "source": [
    "x + ['bye']"
   ]
  },
  {
   "cell_type": "markdown",
   "metadata": {},
   "source": [
    "#### 확장"
   ]
  },
  {
   "cell_type": "code",
   "execution_count": 16,
   "metadata": {
    "ExecuteTime": {
     "end_time": "2021-08-08T07:01:58.442883Z",
     "start_time": "2021-08-08T07:01:58.436876Z"
    }
   },
   "outputs": [
    {
     "data": {
      "text/plain": [
       "[10, 'a', 1.234, -10, 'bc', 'hi']"
      ]
     },
     "execution_count": 16,
     "metadata": {},
     "output_type": "execute_result"
    }
   ],
   "source": [
    "x"
   ]
  },
  {
   "cell_type": "code",
   "execution_count": 17,
   "metadata": {
    "ExecuteTime": {
     "end_time": "2021-08-08T07:01:58.623193Z",
     "start_time": "2021-08-08T07:01:58.616658Z"
    }
   },
   "outputs": [
    {
     "data": {
      "text/plain": [
       "[10, 'a', 1.234, -10, 'bc', 'hi', ['kict', 'nia']]"
      ]
     },
     "execution_count": 17,
     "metadata": {},
     "output_type": "execute_result"
    }
   ],
   "source": [
    "x.append(['kict', 'nia'])\n",
    "x"
   ]
  },
  {
   "cell_type": "code",
   "execution_count": 18,
   "metadata": {
    "ExecuteTime": {
     "end_time": "2021-08-08T07:01:58.806366Z",
     "start_time": "2021-08-08T07:01:58.800089Z"
    }
   },
   "outputs": [
    {
     "data": {
      "text/plain": [
       "[10, 'a', 1.234, -10, 'bc', 'hi', ['kict', 'nia'], 'python', 'basic']"
      ]
     },
     "execution_count": 18,
     "metadata": {},
     "output_type": "execute_result"
    }
   ],
   "source": [
    "x.extend(['python', 'basic'])\n",
    "x"
   ]
  },
  {
   "cell_type": "markdown",
   "metadata": {},
   "source": [
    "#### 정렬"
   ]
  },
  {
   "cell_type": "code",
   "execution_count": 19,
   "metadata": {
    "ExecuteTime": {
     "end_time": "2021-08-08T07:01:59.171853Z",
     "start_time": "2021-08-08T07:01:59.167829Z"
    }
   },
   "outputs": [],
   "source": [
    "x = [5, 4, 3, 2, 1, 0]"
   ]
  },
  {
   "cell_type": "code",
   "execution_count": 20,
   "metadata": {
    "ExecuteTime": {
     "end_time": "2021-08-08T07:01:59.554444Z",
     "start_time": "2021-08-08T07:01:59.548214Z"
    }
   },
   "outputs": [
    {
     "data": {
      "text/plain": [
       "[0, 1, 2, 3, 4, 5]"
      ]
     },
     "execution_count": 20,
     "metadata": {},
     "output_type": "execute_result"
    }
   ],
   "source": [
    "x.sort()\n",
    "x"
   ]
  },
  {
   "cell_type": "markdown",
   "metadata": {},
   "source": [
    "### 튜플\n",
    "\n",
    "- 값을 바꿀 수 없는 리스트, 수정 불가\n",
    "- 값 변경, 추가, 제거, 정렬 다 안됨"
   ]
  },
  {
   "cell_type": "code",
   "execution_count": 21,
   "metadata": {
    "ExecuteTime": {
     "end_time": "2021-08-08T07:02:00.013015Z",
     "start_time": "2021-08-08T07:02:00.007201Z"
    }
   },
   "outputs": [
    {
     "data": {
      "text/plain": [
       "()"
      ]
     },
     "execution_count": 21,
     "metadata": {},
     "output_type": "execute_result"
    }
   ],
   "source": [
    "tuple()  # 빈 튜플 생성"
   ]
  },
  {
   "cell_type": "markdown",
   "metadata": {},
   "source": [
    "#### 튜플과 리스트의 차이점"
   ]
  },
  {
   "cell_type": "code",
   "execution_count": 22,
   "metadata": {
    "ExecuteTime": {
     "end_time": "2021-08-08T07:02:00.404796Z",
     "start_time": "2021-08-08T07:02:00.397814Z"
    }
   },
   "outputs": [
    {
     "data": {
      "text/plain": [
       "('Sun', 'Mon', 'Tue', 'Wed', 'Thur', 'Fri', 'Sat')"
      ]
     },
     "execution_count": 22,
     "metadata": {},
     "output_type": "execute_result"
    }
   ],
   "source": [
    "x = ('Sun','Mon','Tue','Wed','Thur','Fri','Sat')\n",
    "x"
   ]
  },
  {
   "cell_type": "markdown",
   "metadata": {},
   "source": [
    "```python\n",
    "x[0] = 'hi'  # 수정 불가\n",
    "\n",
    "---------------------------------------------------------------------------\n",
    "TypeError                                 Traceback (most recent call last)\n",
    "<ipython-input-21-2c6e17865e84> in <module>\n",
    "----> 1 x[0] = 'hi'\n",
    "\n",
    "TypeError: 'tuple' object does not support item assignment\n",
    "```"
   ]
  },
  {
   "cell_type": "markdown",
   "metadata": {},
   "source": [
    "#### 인덱싱"
   ]
  },
  {
   "cell_type": "code",
   "execution_count": 23,
   "metadata": {
    "ExecuteTime": {
     "end_time": "2021-08-08T07:02:01.378864Z",
     "start_time": "2021-08-08T07:02:01.372781Z"
    }
   },
   "outputs": [
    {
     "data": {
      "text/plain": [
       "'Sun'"
      ]
     },
     "execution_count": 23,
     "metadata": {},
     "output_type": "execute_result"
    }
   ],
   "source": [
    "x[0]  # 리스트와 동일하게 인덱싱"
   ]
  },
  {
   "cell_type": "markdown",
   "metadata": {},
   "source": [
    "#### 슬라이싱"
   ]
  },
  {
   "cell_type": "code",
   "execution_count": 24,
   "metadata": {
    "ExecuteTime": {
     "end_time": "2021-08-08T07:02:01.744118Z",
     "start_time": "2021-08-08T07:02:01.739264Z"
    }
   },
   "outputs": [
    {
     "data": {
      "text/plain": [
       "('Sun', 'Mon', 'Tue')"
      ]
     },
     "execution_count": 24,
     "metadata": {},
     "output_type": "execute_result"
    }
   ],
   "source": [
    "x[0:3]"
   ]
  },
  {
   "cell_type": "markdown",
   "metadata": {},
   "source": [
    "### 딕셔너리\n",
    "- key, value로 되어 있음!\n",
    "- key값은 유일해야하지만, value값은 유일할 필요없음!"
   ]
  },
  {
   "cell_type": "code",
   "execution_count": 25,
   "metadata": {
    "ExecuteTime": {
     "end_time": "2021-08-08T07:02:02.110207Z",
     "start_time": "2021-08-08T07:02:02.104504Z"
    }
   },
   "outputs": [
    {
     "data": {
      "text/plain": [
       "{}"
      ]
     },
     "execution_count": 25,
     "metadata": {},
     "output_type": "execute_result"
    }
   ],
   "source": [
    "dict()"
   ]
  },
  {
   "cell_type": "code",
   "execution_count": 26,
   "metadata": {
    "ExecuteTime": {
     "end_time": "2021-08-08T07:02:02.295435Z",
     "start_time": "2021-08-08T07:02:02.291450Z"
    }
   },
   "outputs": [],
   "source": [
    "person = {'이름': '홍길동',\n",
    "          '출생년도': 2000,\n",
    "          '출생지': '서울'\n",
    "          }"
   ]
  },
  {
   "cell_type": "code",
   "execution_count": 27,
   "metadata": {
    "ExecuteTime": {
     "end_time": "2021-08-08T07:02:02.489397Z",
     "start_time": "2021-08-08T07:02:02.483943Z"
    }
   },
   "outputs": [
    {
     "data": {
      "text/plain": [
       "'홍길동'"
      ]
     },
     "execution_count": 27,
     "metadata": {},
     "output_type": "execute_result"
    }
   ],
   "source": [
    "person['이름']"
   ]
  },
  {
   "cell_type": "code",
   "execution_count": 28,
   "metadata": {
    "ExecuteTime": {
     "end_time": "2021-08-08T07:02:02.664199Z",
     "start_time": "2021-08-08T07:02:02.658677Z"
    }
   },
   "outputs": [
    {
     "data": {
      "text/plain": [
       "dict_keys(['이름', '출생년도', '출생지'])"
      ]
     },
     "execution_count": 28,
     "metadata": {},
     "output_type": "execute_result"
    }
   ],
   "source": [
    "person.keys()"
   ]
  },
  {
   "cell_type": "code",
   "execution_count": 29,
   "metadata": {
    "ExecuteTime": {
     "end_time": "2021-08-08T07:02:02.849399Z",
     "start_time": "2021-08-08T07:02:02.843579Z"
    }
   },
   "outputs": [
    {
     "data": {
      "text/plain": [
       "dict_values(['홍길동', 2000, '서울'])"
      ]
     },
     "execution_count": 29,
     "metadata": {},
     "output_type": "execute_result"
    }
   ],
   "source": [
    "person.values()"
   ]
  },
  {
   "cell_type": "code",
   "execution_count": 30,
   "metadata": {
    "ExecuteTime": {
     "end_time": "2021-08-08T07:02:03.023383Z",
     "start_time": "2021-08-08T07:02:03.017571Z"
    }
   },
   "outputs": [
    {
     "data": {
      "text/plain": [
       "dict_items([('이름', '홍길동'), ('출생년도', 2000), ('출생지', '서울')])"
      ]
     },
     "execution_count": 30,
     "metadata": {},
     "output_type": "execute_result"
    }
   ],
   "source": [
    "person.items()"
   ]
  },
  {
   "cell_type": "markdown",
   "metadata": {},
   "source": [
    "### 집합\n",
    "- 순서가 없어서 indexing이 불가능\n",
    "- 중복된 원소들을 제거함"
   ]
  },
  {
   "cell_type": "code",
   "execution_count": 31,
   "metadata": {
    "ExecuteTime": {
     "end_time": "2021-08-08T07:02:03.416105Z",
     "start_time": "2021-08-08T07:02:03.410358Z"
    }
   },
   "outputs": [
    {
     "data": {
      "text/plain": [
       "set()"
      ]
     },
     "execution_count": 31,
     "metadata": {},
     "output_type": "execute_result"
    }
   ],
   "source": [
    "set()"
   ]
  },
  {
   "cell_type": "code",
   "execution_count": 32,
   "metadata": {
    "ExecuteTime": {
     "end_time": "2021-08-08T07:02:04.162616Z",
     "start_time": "2021-08-08T07:02:04.155617Z"
    }
   },
   "outputs": [
    {
     "data": {
      "text/plain": [
       "{1, 2, 3}"
      ]
     },
     "execution_count": 32,
     "metadata": {},
     "output_type": "execute_result"
    }
   ],
   "source": [
    "{1,1,1,2,2,2,2,2,2,2,3,3,3}"
   ]
  },
  {
   "cell_type": "markdown",
   "metadata": {},
   "source": [
    "## 제어문\n",
    "<hr style=\"height:3px;border:none;color:#5F71F7;background-color:#203E60;\" />"
   ]
  },
  {
   "cell_type": "code",
   "execution_count": 33,
   "metadata": {
    "ExecuteTime": {
     "end_time": "2021-08-08T07:02:05.219281Z",
     "start_time": "2021-08-08T07:02:05.215586Z"
    }
   },
   "outputs": [],
   "source": [
    "a = 1"
   ]
  },
  {
   "cell_type": "markdown",
   "metadata": {},
   "source": [
    "### if문"
   ]
  },
  {
   "cell_type": "code",
   "execution_count": 34,
   "metadata": {
    "ExecuteTime": {
     "end_time": "2021-08-08T07:02:05.675705Z",
     "start_time": "2021-08-08T07:02:05.670740Z"
    }
   },
   "outputs": [
    {
     "name": "stdout",
     "output_type": "stream",
     "text": [
      "hello world\n"
     ]
    }
   ],
   "source": [
    "if a == 1:\n",
    "    print('hello world')"
   ]
  },
  {
   "cell_type": "markdown",
   "metadata": {},
   "source": [
    "### if-else문"
   ]
  },
  {
   "cell_type": "code",
   "execution_count": 35,
   "metadata": {
    "ExecuteTime": {
     "end_time": "2021-08-08T07:02:06.204053Z",
     "start_time": "2021-08-08T07:02:06.200815Z"
    }
   },
   "outputs": [
    {
     "name": "stdout",
     "output_type": "stream",
     "text": [
      "goodbye world\n"
     ]
    }
   ],
   "source": [
    "a = 0\n",
    "if a == 1:\n",
    "    print('hello world')\n",
    "else:\n",
    "    print('goodbye world')"
   ]
  },
  {
   "cell_type": "markdown",
   "metadata": {},
   "source": [
    "<div class=\"alert alert-success\">\n",
    "    <b>예제(Exercise)</b>:\n",
    "    <ul>\n",
    "        <li>숫자를 입력받고 입력 받은 숫자가 홀수이면 1, 짝수이면 0을 출력받도록 하라</li>\n",
    "    </ul>\n",
    "</div>"
   ]
  },
  {
   "cell_type": "code",
   "execution_count": 37,
   "metadata": {
    "ExecuteTime": {
     "end_time": "2021-08-08T07:02:10.697709Z",
     "start_time": "2021-08-08T07:02:08.861765Z"
    }
   },
   "outputs": [
    {
     "name": "stdout",
     "output_type": "stream",
     "text": [
      "숫자: 6\n",
      "0\n"
     ]
    }
   ],
   "source": [
    "num = int(input('숫자: '))\n",
    "\n",
    "if num % 2 == 0:\n",
    "    print(0)\n",
    "else:\n",
    "    print(1)"
   ]
  },
  {
   "cell_type": "markdown",
   "metadata": {},
   "source": [
    "## 반복문\n",
    "<hr style=\"height:3px;border:none;color:#5F71F7;background-color:#203E60;\" />"
   ]
  },
  {
   "cell_type": "markdown",
   "metadata": {},
   "source": [
    "### for문"
   ]
  },
  {
   "cell_type": "code",
   "execution_count": 38,
   "metadata": {
    "ExecuteTime": {
     "end_time": "2021-08-08T07:02:11.735270Z",
     "start_time": "2021-08-08T07:02:11.730364Z"
    }
   },
   "outputs": [
    {
     "name": "stdout",
     "output_type": "stream",
     "text": [
      "0\n",
      "1\n",
      "2\n",
      "3\n",
      "4\n",
      "5\n",
      "6\n",
      "7\n",
      "8\n",
      "9\n"
     ]
    }
   ],
   "source": [
    "for i in range(0,10):\n",
    "    print(i)"
   ]
  },
  {
   "cell_type": "markdown",
   "metadata": {},
   "source": [
    "### while문"
   ]
  },
  {
   "cell_type": "code",
   "execution_count": 39,
   "metadata": {
    "ExecuteTime": {
     "end_time": "2021-08-08T07:02:12.264713Z",
     "start_time": "2021-08-08T07:02:12.259802Z"
    }
   },
   "outputs": [
    {
     "name": "stdout",
     "output_type": "stream",
     "text": [
      "0\n",
      "1\n",
      "2\n",
      "3\n",
      "4\n",
      "5\n",
      "6\n",
      "7\n",
      "8\n",
      "9\n"
     ]
    }
   ],
   "source": [
    "i = 0\n",
    "while i < 10:\n",
    "    print(i)\n",
    "    i += 1"
   ]
  },
  {
   "cell_type": "markdown",
   "metadata": {},
   "source": [
    "<div class=\"alert alert-success\">\n",
    "    <b>예제(Exercise)</b>:\n",
    "    <ul>\n",
    "        <li>아래와 같은 모양을 출력하시오.</li>\n",
    "        <li>출력 예시</li>\n",
    "        <code>\n",
    "*\n",
    "**\n",
    "***\n",
    "****\n",
    "*****</code>\n",
    "    </ul>\n",
    "</div>"
   ]
  },
  {
   "cell_type": "code",
   "execution_count": 40,
   "metadata": {
    "ExecuteTime": {
     "end_time": "2021-08-08T07:02:12.965312Z",
     "start_time": "2021-08-08T07:02:12.959620Z"
    }
   },
   "outputs": [
    {
     "name": "stdout",
     "output_type": "stream",
     "text": [
      "*\n",
      "**\n",
      "***\n",
      "****\n",
      "*****\n"
     ]
    }
   ],
   "source": [
    "for i in range(1,6):\n",
    "    print('*'*i)"
   ]
  },
  {
   "cell_type": "markdown",
   "metadata": {},
   "source": [
    "<div class=\"alert alert-success\">\n",
    "    <b>예제(Exercise)</b>:\n",
    "    <ul>\n",
    "        <li>아래와 같은 모양을 출력하시오.</li>\n",
    "        <li>출력 예시</li>\n",
    "        <code>\n",
    "    *\n",
    "   **\n",
    "  ***\n",
    " ****\n",
    "*****</code>\n",
    "    </ul>\n",
    "</div>"
   ]
  },
  {
   "cell_type": "code",
   "execution_count": 41,
   "metadata": {
    "ExecuteTime": {
     "end_time": "2021-08-08T07:02:13.588555Z",
     "start_time": "2021-08-08T07:02:13.582521Z"
    }
   },
   "outputs": [
    {
     "name": "stdout",
     "output_type": "stream",
     "text": [
      "    *\n",
      "   **\n",
      "  ***\n",
      " ****\n",
      "*****\n"
     ]
    }
   ],
   "source": [
    "for i in range(1,6):\n",
    "    print(' '*(5-i) + '*'*i)"
   ]
  },
  {
   "cell_type": "markdown",
   "metadata": {},
   "source": [
    "<div class=\"alert alert-success\">\n",
    "    <b>예제(Exercise)</b>:\n",
    "    <ul>\n",
    "        <li>아래와 같은 모양을 출력하시오.</li>\n",
    "        <li>출력 예시</li>\n",
    "        <code>\n",
    "    *\n",
    "   ***\n",
    "  *****\n",
    " *******\n",
    "*********</code>\n",
    "    </ul>\n",
    "</div>"
   ]
  },
  {
   "cell_type": "code",
   "execution_count": 42,
   "metadata": {
    "ExecuteTime": {
     "end_time": "2021-08-08T07:02:14.423837Z",
     "start_time": "2021-08-08T07:02:14.417438Z"
    }
   },
   "outputs": [
    {
     "name": "stdout",
     "output_type": "stream",
     "text": [
      "    *\n",
      "   ***\n",
      "  *****\n",
      " *******\n",
      "*********\n"
     ]
    }
   ],
   "source": [
    "for i in range(1,6):\n",
    "    print(' '*(5-i) + '*'*(2*i-1))"
   ]
  },
  {
   "cell_type": "markdown",
   "metadata": {},
   "source": [
    "<div class=\"alert alert-success\">\n",
    "    <b>예제(Exercise)</b>:\n",
    "    <ul>\n",
    "        <li>아래와 같은 모양을 출력하시오.</li>\n",
    "        <li>출력 예시</li>\n",
    "        <code>\n",
    "    *\n",
    "   ***\n",
    "  *****\n",
    " *******\n",
    "*********\n",
    " *******\n",
    "  *****\n",
    "   ***\n",
    "    *</code>\n",
    "    </ul>\n",
    "</div>"
   ]
  },
  {
   "cell_type": "code",
   "execution_count": 43,
   "metadata": {
    "ExecuteTime": {
     "end_time": "2021-08-08T07:02:15.596892Z",
     "start_time": "2021-08-08T07:02:15.588728Z"
    }
   },
   "outputs": [
    {
     "name": "stdout",
     "output_type": "stream",
     "text": [
      "    *\n",
      "   ***\n",
      "  *****\n",
      " *******\n",
      "*********\n",
      " *******\n",
      "  *****\n",
      "   ***\n",
      "    *\n"
     ]
    }
   ],
   "source": [
    "for i in range(1,10):\n",
    "    if i <= 5:\n",
    "        print(' '*(5-i) + '*'*(2*i-1))\n",
    "    else:\n",
    "        print(' '*(i-5) + '*'*(2*(5-abs(i-5))-1))"
   ]
  },
  {
   "cell_type": "markdown",
   "metadata": {},
   "source": [
    "## 함수\n",
    "<hr style=\"height:3px;border:none;color:#5F71F7;background-color:#203E60;\" />"
   ]
  },
  {
   "cell_type": "code",
   "execution_count": 44,
   "metadata": {
    "ExecuteTime": {
     "end_time": "2021-08-08T07:02:19.021774Z",
     "start_time": "2021-08-08T07:02:19.017801Z"
    }
   },
   "outputs": [],
   "source": [
    "def myaddfunc(a,b):\n",
    "    return a+b"
   ]
  },
  {
   "cell_type": "code",
   "execution_count": 45,
   "metadata": {
    "ExecuteTime": {
     "end_time": "2021-08-08T07:02:19.489433Z",
     "start_time": "2021-08-08T07:02:19.485717Z"
    }
   },
   "outputs": [
    {
     "data": {
      "text/plain": [
       "3"
      ]
     },
     "execution_count": 45,
     "metadata": {},
     "output_type": "execute_result"
    }
   ],
   "source": [
    "myaddfunc(1,2)"
   ]
  },
  {
   "cell_type": "markdown",
   "metadata": {},
   "source": [
    "<div class=\"alert alert-success\">\n",
    "    <b>예제(Exercise)</b>:\n",
    "    <ul>\n",
    "        <li>n을 입력으로 받는 n단 함수(gugudan)를 작성하시오</li>\n",
    "        <br>\n",
    "        <li>예시1) gugudan(3)</li>\n",
    "        <code>\n",
    "3 x 1 = 3\n",
    "3 x 2 = 6\n",
    "3 x 3 = 9</code>\n",
    "        <br><br>\n",
    "        <li>예시2) gugudan(9)</li>\n",
    "        <code>\n",
    "9 x 1 = 9\n",
    "9 x 2 = 18\n",
    "9 x 3 = 27\n",
    "9 x 4 = 36\n",
    "9 x 5 = 45\n",
    "9 x 6 = 54\n",
    "9 x 7 = 63\n",
    "9 x 8 = 72\n",
    "9 x 9 = 81</code>\n",
    "    </ul>\n",
    "</div>"
   ]
  },
  {
   "cell_type": "code",
   "execution_count": 46,
   "metadata": {
    "ExecuteTime": {
     "end_time": "2021-08-08T07:02:20.884102Z",
     "start_time": "2021-08-08T07:02:20.879315Z"
    }
   },
   "outputs": [],
   "source": [
    "def gugudan(n):\n",
    "    for i in range(1,n+1):\n",
    "        print(\"{} x {} = {}\".format(n,i,n*i))\n",
    "        if i == n:\n",
    "            break"
   ]
  },
  {
   "cell_type": "code",
   "execution_count": 47,
   "metadata": {
    "ExecuteTime": {
     "end_time": "2021-08-08T07:02:21.466367Z",
     "start_time": "2021-08-08T07:02:21.461319Z"
    }
   },
   "outputs": [
    {
     "name": "stdout",
     "output_type": "stream",
     "text": [
      "3 x 1 = 3\n",
      "3 x 2 = 6\n",
      "3 x 3 = 9\n"
     ]
    }
   ],
   "source": [
    "gugudan(3)"
   ]
  },
  {
   "cell_type": "code",
   "execution_count": 48,
   "metadata": {
    "ExecuteTime": {
     "end_time": "2021-08-08T07:02:21.972923Z",
     "start_time": "2021-08-08T07:02:21.967410Z"
    }
   },
   "outputs": [
    {
     "name": "stdout",
     "output_type": "stream",
     "text": [
      "9 x 1 = 9\n",
      "9 x 2 = 18\n",
      "9 x 3 = 27\n",
      "9 x 4 = 36\n",
      "9 x 5 = 45\n",
      "9 x 6 = 54\n",
      "9 x 7 = 63\n",
      "9 x 8 = 72\n",
      "9 x 9 = 81\n"
     ]
    }
   ],
   "source": [
    "gugudan(9)"
   ]
  },
  {
   "cell_type": "markdown",
   "metadata": {},
   "source": [
    "## 파이썬 Built-in 함수\n",
    "<hr style=\"height:3px;border:none;color:#5F71F7;background-color:#203E60;\" />\n",
    "https://docs.python.org/ko/3/library/functions.html"
   ]
  },
  {
   "cell_type": "code",
   "execution_count": 49,
   "metadata": {
    "ExecuteTime": {
     "end_time": "2021-08-08T07:02:22.626838Z",
     "start_time": "2021-08-08T07:02:22.621270Z"
    }
   },
   "outputs": [],
   "source": [
    "import builtins\n",
    "import inspect\n",
    "\n",
    "builtins_funcs = [name for name, function in sorted(vars(builtins).items())\n",
    " if inspect.isbuiltin(function) or inspect.isfunction(function)]"
   ]
  },
  {
   "cell_type": "code",
   "execution_count": 50,
   "metadata": {
    "ExecuteTime": {
     "end_time": "2021-08-08T07:02:23.034963Z",
     "start_time": "2021-08-08T07:02:23.024802Z"
    }
   },
   "outputs": [
    {
     "name": "stdout",
     "output_type": "stream",
     "text": [
      "__build_class__     \t__import__          \tabs                 \tall                 \t\n",
      "any                 \tascii               \tbin                 \tbreakpoint          \t\n",
      "callable            \tchr                 \tcompile             \tdelattr             \t\n",
      "dir                 \tdisplay             \tdivmod              \teval                \t\n",
      "exec                \tformat              \tgetattr             \tglobals             \t\n",
      "hasattr             \thash                \thex                 \tid                  \t\n",
      "isinstance          \tissubclass          \titer                \tlen                 \t\n",
      "locals              \tmax                 \tmin                 \tnext                \t\n",
      "oct                 \topen                \tord                 \tpow                 \t\n",
      "print               \trepr                \tround               \tsetattr             \t\n",
      "sorted              \tsum                 \tvars                \t"
     ]
    }
   ],
   "source": [
    "for n,func in enumerate(builtins_funcs,start=1):\n",
    "    print('{:20s}'.format(func), end='\\t')\n",
    "    if n % 4 == 0:\n",
    "        print('')"
   ]
  },
  {
   "cell_type": "code",
   "execution_count": 51,
   "metadata": {
    "ExecuteTime": {
     "end_time": "2021-08-08T07:02:23.268417Z",
     "start_time": "2021-08-08T07:02:23.262535Z"
    }
   },
   "outputs": [
    {
     "data": {
      "text/plain": [
       "1"
      ]
     },
     "execution_count": 51,
     "metadata": {},
     "output_type": "execute_result"
    }
   ],
   "source": [
    "min(1,2)"
   ]
  },
  {
   "cell_type": "code",
   "execution_count": 52,
   "metadata": {
    "ExecuteTime": {
     "end_time": "2021-08-08T07:02:23.472197Z",
     "start_time": "2021-08-08T07:02:23.466420Z"
    }
   },
   "outputs": [
    {
     "data": {
      "text/plain": [
       "3"
      ]
     },
     "execution_count": 52,
     "metadata": {},
     "output_type": "execute_result"
    }
   ],
   "source": [
    "max(2,3)"
   ]
  },
  {
   "cell_type": "code",
   "execution_count": 53,
   "metadata": {
    "ExecuteTime": {
     "end_time": "2021-08-08T07:02:23.693468Z",
     "start_time": "2021-08-08T07:02:23.687449Z"
    }
   },
   "outputs": [
    {
     "data": {
      "text/plain": [
       "7"
      ]
     },
     "execution_count": 53,
     "metadata": {},
     "output_type": "execute_result"
    }
   ],
   "source": [
    "sum([3,4])"
   ]
  },
  {
   "cell_type": "code",
   "execution_count": 54,
   "metadata": {
    "ExecuteTime": {
     "end_time": "2021-08-08T07:02:23.909984Z",
     "start_time": "2021-08-08T07:02:23.904236Z"
    }
   },
   "outputs": [
    {
     "data": {
      "text/plain": [
       "8"
      ]
     },
     "execution_count": 54,
     "metadata": {},
     "output_type": "execute_result"
    }
   ],
   "source": [
    "pow(2,3)"
   ]
  },
  {
   "cell_type": "code",
   "execution_count": 55,
   "metadata": {
    "ExecuteTime": {
     "end_time": "2021-08-08T07:02:24.106691Z",
     "start_time": "2021-08-08T07:02:24.100669Z"
    }
   },
   "outputs": [
    {
     "data": {
      "text/plain": [
       "[1, 2, 3, 4, 5]"
      ]
     },
     "execution_count": 55,
     "metadata": {},
     "output_type": "execute_result"
    }
   ],
   "source": [
    "sorted([4,5,1,3,2])"
   ]
  },
  {
   "cell_type": "code",
   "execution_count": 56,
   "metadata": {
    "ExecuteTime": {
     "end_time": "2021-08-08T07:02:24.287609Z",
     "start_time": "2021-08-08T07:02:24.282076Z"
    }
   },
   "outputs": [
    {
     "data": {
      "text/plain": [
       "3"
      ]
     },
     "execution_count": 56,
     "metadata": {},
     "output_type": "execute_result"
    }
   ],
   "source": [
    "len([1,2,3])"
   ]
  },
  {
   "cell_type": "markdown",
   "metadata": {},
   "source": [
    "## 클래스\n",
    "<hr style=\"height:3px;border:none;color:#5F71F7;background-color:#203E60;\" />"
   ]
  },
  {
   "cell_type": "code",
   "execution_count": 57,
   "metadata": {
    "ExecuteTime": {
     "end_time": "2021-08-08T07:02:24.661443Z",
     "start_time": "2021-08-08T07:02:24.657413Z"
    }
   },
   "outputs": [],
   "source": [
    "class SimpleClass:\n",
    "    def __init__(self,a):\n",
    "        self.a = a\n",
    "        print(a)"
   ]
  },
  {
   "cell_type": "code",
   "execution_count": 58,
   "metadata": {
    "ExecuteTime": {
     "end_time": "2021-08-08T07:02:24.857026Z",
     "start_time": "2021-08-08T07:02:24.850067Z"
    },
    "scrolled": true
   },
   "outputs": [
    {
     "name": "stdout",
     "output_type": "stream",
     "text": [
      "0\n"
     ]
    },
    {
     "data": {
      "text/plain": [
       "<__main__.SimpleClass at 0x7fc5a83ba210>"
      ]
     },
     "execution_count": 58,
     "metadata": {},
     "output_type": "execute_result"
    }
   ],
   "source": [
    "SimpleClass(0)"
   ]
  },
  {
   "cell_type": "code",
   "execution_count": null,
   "metadata": {},
   "outputs": [],
   "source": []
  }
 ],
 "metadata": {
  "hide_input": false,
  "kernelspec": {
   "display_name": "Python 3",
   "language": "python",
   "name": "python3"
  },
  "language_info": {
   "codemirror_mode": {
    "name": "ipython",
    "version": 3
   },
   "file_extension": ".py",
   "mimetype": "text/x-python",
   "name": "python",
   "nbconvert_exporter": "python",
   "pygments_lexer": "ipython3",
   "version": "3.7.10"
  },
  "toc": {
   "base_numbering": 1,
   "nav_menu": {},
   "number_sections": true,
   "sideBar": true,
   "skip_h1_title": true,
   "title_cell": "Table of Contents",
   "title_sidebar": "Contents",
   "toc_cell": true,
   "toc_position": {
    "height": "calc(100% - 180px)",
    "left": "10px",
    "top": "150px",
    "width": "409.594px"
   },
   "toc_section_display": true,
   "toc_window_display": true
  }
 },
 "nbformat": 4,
 "nbformat_minor": 4
}
